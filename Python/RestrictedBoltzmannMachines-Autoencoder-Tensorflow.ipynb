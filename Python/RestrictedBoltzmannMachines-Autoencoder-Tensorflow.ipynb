{
 "cells": [
  {
   "cell_type": "markdown",
   "metadata": {},
   "source": [
    "<h1 align=\"center\"><font size=\"5\">RESTRICTED BOLTZMANN MACHINES</font></h1>\n"
   ]
  },
  {
   "cell_type": "markdown",
   "metadata": {},
   "source": [
    "Created on JupyterLab"
   ]
  },
  {
   "cell_type": "markdown",
   "metadata": {},
   "source": [
    "<h3>Introduction</h3>\n",
    "\n",
    "<b>Restricted Boltzmann Machine (RBM):</b>  RBMs are shallow neural nets that **learn to reconstruct data by themselves in an unsupervised fashion.** \n",
    "\n",
    "\n",
    "<h4>Why are RBMs important?</h4>\n",
    "\n",
    "An RBM are a basic form of **autoencoder.**  It can automatically **extract <b>meaningful</b> features from a given input.**\n",
    "\n",
    "\n",
    "<h4>How does it work?</h4>\n",
    "\n",
    "RBM is a **2 layer neural network.** Simply, RBM takes the inputs and translates those into a set of **binary values that represents them in the hidden layer.** Then, these numbers can be **translated back to reconstruct the inputs.** Through several **forward and backward passes**, the RBM will be trained, and a **trained RBM can reveal which features are the most important ones when detecting patterns.**   \n",
    "\n",
    "\n",
    "<h4>What are the applications of an RBM?</h4>\n",
    "\n",
    "RBM is useful for <a href='http://www.cs.utoronto.ca/~hinton/absps/netflixICML.pdf?utm_medium=Exinfluencer&utm_source=Exinfluencer&utm_content=000026UJ&utm_term=10006555&utm_id=NA-SkillsNetwork-Channel-SkillsNetworkCoursesIBMDeveloperSkillsNetworkDL0120ENSkillsNetwork954-2023-01-01'>  Collaborative Filtering</a>, dimensionality reduction, classification, regression, feature learning, topic modeling and even <b>Deep Belief Networks</b>.\n",
    "\n",
    "<h4>Is RBM a generative or Discriminative model?</h4>\n",
    "\n",
    "**RBM is a generative model.** Let me explain it by first, see what is different between discriminative and generative models: \n",
    "\n",
    "<b>Discriminative:</b> Consider a classification problem where we want to learn to distinguish between Sedan cars (y = 1) and SUV cars (y = 0), based on some features of cars. Given a training set, an algorithm like logistic regression tries to find a straight line, or <i>decision boundary</i>, that separates the suv and sedan.  \n",
    "\n",
    "<b>Generative:</b> **looking at cars, we can build a model of what Sedan cars look like.** Then, **looking at SUVs, we can build a separate model of what SUV cars look like.** Finally, to **classify a new car**, we can match the new car against the Sedan model, and match it against the SUV model, to see whether the new car looks more like the SUV or Sedan. \n",
    "\n",
    "Generative Models specify a **probability distribution over a dataset of input vectors.** We can carry out **both supervised and unsupervised tasks with generative models**:\n",
    "\n",
    "<ul>\n",
    "    <li>In an unsupervised task, we try to form a model for $P(x)$, where $P$ is the probability given $x$ as an input vector.</li>\n",
    "    <li>In the supervised task, we first form a model for $P(x|y)$, where $P$ is the probability of $x$ given $y$(the label for $x$). For example, if $y = 0$ indicates that a car is an SUV, and $y = 1$ indicates that a car is a sedan, then $p(x|y = 0)$ models the distribution of SUV features, and $p(x|y = 1)$ models the distribution of sedan features. If we manage to find $P(x|y)$ and $P(y)$, then we can use <b>Bayes rule</b> to estimate $P(y|x)$, because:   \n",
    "        $$p(y|x) = \\frac{p(x|y)p(y)}{p(x)}$$</li>\n",
    "</ul>\n",
    "Now the question is, can we build a generative model, and then use it to create synthetic data by directly sampling from the modeled probability distributions? Lets see. \n"
   ]
  },
  {
   "cell_type": "markdown",
   "metadata": {},
   "source": [
    "<h2>Table of Contents</h2>\n",
    "<ol>\n",
    "    <li><a href=\"#ref1\">Initialization</a></li>\n",
    "    <li><a href=\"#ref2\">RBM layers</a></li>\n",
    "    <li><a href=\"#ref3\">What RBM can do after training?</a></li>\n",
    "    <li><a href=\"#ref4\">How to train the model?</a></li>\n",
    "    <li><a href=\"#ref5\">Learned features</a></li>\n",
    "</ol>\n",
    "<p></p>\n",
    "</div>\n",
    "<br>\n",
    "\n",
    "<hr>\n"
   ]
  },
  {
   "cell_type": "markdown",
   "metadata": {},
   "source": [
    "<a id=\"ref1\"></a>\n",
    "<h3>Initialization</h3>\n",
    "\n",
    "First, we have to load the utility file which contains different utility functions that are not connected\n",
    "in any way to the networks presented in the tutorials, but rather help in\n",
    "processing the outputs into a more understandable way.\n"
   ]
  },
  {
   "cell_type": "code",
   "execution_count": 1,
   "metadata": {},
   "outputs": [],
   "source": [
    "import urllib.request\n",
    "with urllib.request.urlopen(\"https://cf-courses-data.s3.us.cloud-object-storage.appdomain.cloud/IBMDeveloperSkillsNetwork-DL0120EN-SkillsNetwork/labs/Week4/data/utils.py\") as url:\n",
    "    response = url.read()\n",
    "target = open('utils.py', 'w')\n",
    "target.write(response.decode('utf-8'))\n",
    "target.close()"
   ]
  },
  {
   "cell_type": "markdown",
   "metadata": {},
   "source": [
    "<h2>Installing TensorFlow </h2>\n",
    "\n",
    "We will installing TensorFlow version 2.9.0 and its required prerequistes.  Also installing pillow...\n"
   ]
  },
  {
   "cell_type": "code",
   "execution_count": 2,
   "metadata": {},
   "outputs": [],
   "source": [
    "#!pip install grpcio==1.24.3\n",
    "#!pip install tensorflow==2.9.0\n",
    "#!pip install pillow==8.1.0"
   ]
  },
  {
   "cell_type": "markdown",
   "metadata": {},
   "source": [
    "<b>Notice:</b> This notebook has been created with TensorFlow version 2.9.0, and might not work with other versions. Therefore we check:\n"
   ]
  },
  {
   "cell_type": "code",
   "execution_count": 3,
   "metadata": {},
   "outputs": [
    {
     "name": "stderr",
     "output_type": "stream",
     "text": [
      "2024-05-23 14:06:33.757309: I tensorflow/core/util/util.cc:169] oneDNN custom operations are on. You may see slightly different numerical results due to floating-point round-off errors from different computation orders. To turn them off, set the environment variable `TF_ENABLE_ONEDNN_OPTS=0`.\n",
      "2024-05-23 14:06:33.763006: W tensorflow/stream_executor/platform/default/dso_loader.cc:64] Could not load dynamic library 'libcudart.so.11.0'; dlerror: libcudart.so.11.0: cannot open shared object file: No such file or directory\n",
      "2024-05-23 14:06:33.763034: I tensorflow/stream_executor/cuda/cudart_stub.cc:29] Ignore above cudart dlerror if you do not have a GPU set up on your machine.\n"
     ]
    }
   ],
   "source": [
    "import tensorflow as tf\n",
    "from IPython.display import Markdown, display\n",
    "\n",
    "def printmd(string):\n",
    "    display(Markdown('# <span style=\"color:red\">'+string+'</span>'))\n",
    "\n",
    "\n",
    "if not tf.__version__ == '2.9.0':\n",
    "    printmd('<<<<<!!!!! ERROR !!!! please upgrade to TensorFlow 2.9.0, or restart your Kernel (Kernel->Restart & Clear Output)>>>>>')"
   ]
  },
  {
   "cell_type": "markdown",
   "metadata": {},
   "source": [
    "Now, we load in all the packages that we use to create the net including the TensorFlow package:\n"
   ]
  },
  {
   "cell_type": "code",
   "execution_count": 4,
   "metadata": {
    "tags": []
   },
   "outputs": [],
   "source": [
    "\"\"\" This file contains different utility functions that are not connected\n",
    "in anyway to the networks presented in the notebook, but rather help in\n",
    "processing the outputs into a more understandable way.\n",
    "\n",
    "For example ``tile_raster_images`` helps in generating a easy to grasp\n",
    "image from a set of samples or weights.\n",
    "\"\"\"\n",
    "\n",
    "import numpy\n",
    "\n",
    "\n",
    "def scale_to_unit_interval(ndar, eps=1e-8):\n",
    "    \"\"\" Scales all values in the ndarray ndar to be between 0 and 1 \"\"\"\n",
    "    ndar = ndar.copy()\n",
    "    ndar -= ndar.min()\n",
    "    ndar *= 1.0 / (ndar.max() + eps)\n",
    "    return ndar\n",
    "\n",
    "\n",
    "def tile_raster_images(X, img_shape, tile_shape, tile_spacing=(0, 0),\n",
    "                       scale_rows_to_unit_interval=True,\n",
    "                       output_pixel_vals=True):\n",
    "    \"\"\"\n",
    "    Transform an array with one flattened image per row, into an array in\n",
    "    which images are reshaped and layed out like tiles on a floor.\n",
    "\n",
    "    This function is useful for visualizing datasets whose rows are images,\n",
    "    and also columns of matrices for transforming those rows\n",
    "    (such as the first layer of a neural net).\n",
    "\n",
    "    :type X: a 2-D ndarray or a tuple of 4 channels, elements of which can\n",
    "    be 2-D ndarrays or None;\n",
    "    :param X: a 2-D array in which every row is a flattened image.\n",
    "\n",
    "    :type img_shape: tuple; (height, width)\n",
    "    :param img_shape: the original shape of each image\n",
    "\n",
    "    :type tile_shape: tuple; (rows, cols)\n",
    "    :param tile_shape: the number of images to tile (rows, cols)\n",
    "\n",
    "    :param output_pixel_vals: if output should be pixel values (i.e. int8\n",
    "    values) or floats\n",
    "\n",
    "    :param scale_rows_to_unit_interval: if the values need to be scaled before\n",
    "    being plotted to [0,1] or not\n",
    "\n",
    "\n",
    "    :returns: array suitable for viewing as an image.\n",
    "    (See:`Image.fromarray`.)\n",
    "    :rtype: a 2-d array with same dtype as X.\n",
    "\n",
    "    \"\"\"\n",
    "\n",
    "    assert len(img_shape) == 2\n",
    "    assert len(tile_shape) == 2\n",
    "    assert len(tile_spacing) == 2\n",
    "\n",
    "    # The expression below can be re-written in a more C style as\n",
    "    # follows :\n",
    "    #\n",
    "    # out_shape    = [0,0]\n",
    "    # out_shape[0] = (img_shape[0]+tile_spacing[0])*tile_shape[0] -\n",
    "    #                tile_spacing[0]\n",
    "    # out_shape[1] = (img_shape[1]+tile_spacing[1])*tile_shape[1] -\n",
    "    #                tile_spacing[1]\n",
    "    out_shape = [\n",
    "        (ishp + tsp) * tshp - tsp\n",
    "        for ishp, tshp, tsp in zip(img_shape, tile_shape, tile_spacing)\n",
    "    ]\n",
    "\n",
    "    if isinstance(X, tuple):\n",
    "        assert len(X) == 4\n",
    "        # Create an output numpy ndarray to store the image\n",
    "        if output_pixel_vals:\n",
    "            out_array = numpy.zeros((out_shape[0], out_shape[1], 4),\n",
    "                                    dtype='uint8')\n",
    "        else:\n",
    "            out_array = numpy.zeros((out_shape[0], out_shape[1], 4),\n",
    "                                    dtype=X.dtype)\n",
    "\n",
    "        #colors default to 0, alpha defaults to 1 (opaque)\n",
    "        if output_pixel_vals:\n",
    "            channel_defaults = [0, 0, 0, 255]\n",
    "        else:\n",
    "            channel_defaults = [0., 0., 0., 1.]\n",
    "\n",
    "        for i in range(4):\n",
    "            if X[i] is None:\n",
    "                # if channel is None, fill it with zeros of the correct\n",
    "                # dtype\n",
    "                dt = out_array.dtype\n",
    "                if output_pixel_vals:\n",
    "                    dt = 'uint8'\n",
    "                out_array[:, :, i] = numpy.zeros(\n",
    "                    out_shape,\n",
    "                    dtype=dt\n",
    "                ) + channel_defaults[i]\n",
    "            else:\n",
    "                # use a recurrent call to compute the channel and store it\n",
    "                # in the output\n",
    "                out_array[:, :, i] = tile_raster_images(\n",
    "                    X[i], img_shape, tile_shape, tile_spacing,\n",
    "                    scale_rows_to_unit_interval, output_pixel_vals)\n",
    "        return out_array\n",
    "\n",
    "    else:\n",
    "        # if we are dealing with only one channel\n",
    "        H, W = img_shape\n",
    "        Hs, Ws = tile_spacing\n",
    "\n",
    "        # generate a matrix to store the output\n",
    "        dt = X.dtype\n",
    "        if output_pixel_vals:\n",
    "            dt = 'uint8'\n",
    "        out_array = numpy.zeros(out_shape, dtype=dt)\n",
    "\n",
    "        for tile_row in range(tile_shape[0]):\n",
    "            for tile_col in range(tile_shape[1]):\n",
    "                if tile_row * tile_shape[1] + tile_col < X.shape[0]:\n",
    "                    this_x = X[tile_row * tile_shape[1] + tile_col]\n",
    "                    if scale_rows_to_unit_interval:\n",
    "                        # if we should scale values to be between 0 and 1\n",
    "                        # do this by calling the `scale_to_unit_interval`\n",
    "                        # function\n",
    "                        this_img = scale_to_unit_interval(\n",
    "                            this_x.reshape(img_shape))\n",
    "                    else:\n",
    "                        this_img = this_x.reshape(img_shape)\n",
    "                    # add the slice to the corresponding position in the\n",
    "                    # output array\n",
    "                    c = 1\n",
    "                    if output_pixel_vals:\n",
    "                        c = 255\n",
    "                    out_array[\n",
    "                        tile_row * (H + Hs): tile_row * (H + Hs) + H,\n",
    "                        tile_col * (W + Ws): tile_col * (W + Ws) + W\n",
    "                    ] = this_img * c\n",
    "        return out_array\n"
   ]
  },
  {
   "cell_type": "code",
   "execution_count": 5,
   "metadata": {},
   "outputs": [],
   "source": [
    "import tensorflow as tf\n",
    "import numpy as np\n",
    "\n",
    "from PIL import Image\n",
    "import matplotlib.pyplot as plt\n",
    "%matplotlib inline"
   ]
  },
  {
   "cell_type": "markdown",
   "metadata": {},
   "source": [
    "<hr>\n"
   ]
  },
  {
   "cell_type": "markdown",
   "metadata": {},
   "source": [
    "<a id=\"ref2\"></a>\n",
    "<h3>RBM layers</h3>\n",
    "\n",
    "An RBM has two layers. The first layer of the RBM is called **the <b>visible</b> (or input layer).** Imagine that our toy example, has only vectors with 7 values, so the visible layer must have $V=7$ input nodes. \n",
    "The second layer is **the <b>hidden</b> layer**, which has $H$ neurons in our case. **Each hidden node takes on values of either 0 or 1 (i.e., $h_i = 1$ or $h_i$ = 0)**, with a **probability that is a logistic function** of the inputs it receives from the other $V$ visible units, called for example, $p(h_i = 1)$. For our toy sample, we'll use 2 nodes in the hidden layer, so $H = 2$.\n",
    "\n",
    "<center><img src=\"https://ibm.box.com/shared/static/eu26opvcefgls6vnwuo29uwp0nudmokh.png\" alt=\"RBM Model\" style=\"width: 400px;\"></center>\n"
   ]
  },
  {
   "cell_type": "markdown",
   "metadata": {},
   "source": [
    "     \n",
    "\n",
    "Each node in the first layer also has a <b>bias</b>. We will denote the bias as $v_{bias}$, and this single value is shared among the $V$ visible units.\n",
    "\n",
    "The <b>bias</b> of the second is defined similarly as $h_{bias}$, and this single value among the $H$ hidden units.\n"
   ]
  },
  {
   "cell_type": "code",
   "execution_count": 6,
   "metadata": {},
   "outputs": [
    {
     "name": "stderr",
     "output_type": "stream",
     "text": [
      "2024-05-23 14:06:41.559662: W tensorflow/stream_executor/platform/default/dso_loader.cc:64] Could not load dynamic library 'libcuda.so.1'; dlerror: libcuda.so.1: cannot open shared object file: No such file or directory\n",
      "2024-05-23 14:06:41.559722: W tensorflow/stream_executor/cuda/cuda_driver.cc:269] failed call to cuInit: UNKNOWN ERROR (303)\n",
      "2024-05-23 14:06:41.559756: I tensorflow/stream_executor/cuda/cuda_diagnostics.cc:156] kernel driver does not appear to be running on this host (jupyterlab-mathildeduvi): /proc/driver/nvidia/version does not exist\n",
      "2024-05-23 14:06:41.560232: I tensorflow/core/platform/cpu_feature_guard.cc:193] This TensorFlow binary is optimized with oneAPI Deep Neural Network Library (oneDNN) to use the following CPU instructions in performance-critical operations:  AVX2 AVX512F AVX512_VNNI FMA\n",
      "To enable them in other operations, rebuild TensorFlow with the appropriate compiler flags.\n"
     ]
    }
   ],
   "source": [
    "v_bias = tf.Variable(tf.zeros([7]), tf.float32)\n",
    "h_bias = tf.Variable(tf.zeros([2]), tf.float32)"
   ]
  },
  {
   "cell_type": "markdown",
   "metadata": {},
   "source": [
    "We have to define weights among the input layer and hidden layer nodes. In the weight matrix, the number of rows are equal to the input nodes, and the number of columns are equal to the output nodes. We define a tensor $\\mathbf{W}$ of shape = (7,2), where the number of visible neurons = 7, and the number of hidden neurons = 2. \n"
   ]
  },
  {
   "cell_type": "code",
   "execution_count": 7,
   "metadata": {},
   "outputs": [
    {
     "data": {
      "text/plain": [
       "TensorShape([7, 2])"
      ]
     },
     "execution_count": 7,
     "metadata": {},
     "output_type": "execute_result"
    }
   ],
   "source": [
    "W = tf.constant(np.random.normal(loc=0.0, scale=1.0, size=(7, 2)).astype(np.float32))\n",
    "W.shape"
   ]
  },
  {
   "cell_type": "markdown",
   "metadata": {},
   "source": [
    "<hr>\n"
   ]
  },
  {
   "cell_type": "markdown",
   "metadata": {},
   "source": [
    "<a id=\"ref3\"></a>\n",
    "<h3>What RBM can do after training?</h3>\n",
    "Think of RBM as a model that has been trained based on images of a dataset of many SUV and sedan cars. Also, imagine that the RBM network has only two hidden nodes, where one node encodes the weight and, and the other encodes the size.  \n",
    "\n",
    "In a sense, **the different configurations represent different cars, where one is an SUV and the other is Sedan**.  In a training process, through many **forward and backward passes**, the RBM **adjust its weights to send a stronger signal to either the SUV node (0, 1) or the sedan node (1, 0) in the hidden layer, given the pixels of images.** Now, given an SUV in hidden layer, which distribution of pixels should we expect? RBM can give you 2 things. **First, it encodes your images in hidden layer. Second, it gives you the probability of observing a case, given some hidden values.**\n",
    "\n",
    "\n",
    "<h3>The Inference Process</h3>\n",
    "\n",
    "RBM has two phases:\n",
    "<ul>\n",
    "    <li>Forward Pass</li>  \n",
    "    <li>Backward Pass or Reconstruction</li>\n",
    "</ul>\n",
    "\n",
    "<b>Phase 1) Forward pass:</b>  \n",
    "\n",
    "Input one training sample (one image) $\\mathbf{x}$ through all visible nodes, and pass it to all hidden nodes. Processing happens in each node in the hidden layer. **This computation begins by making stochastic decisions about whether to transmit that input or not (i.e. to determine the state of each hidden layer).** First, the probability vector is computed using the input feature vector $\\mathbf{x}$, the weight matrix $\\mathbf{W}$, and the bias term $h_{bias}$, as \n",
    "\n",
    "\n",
    "$$p({h_j}|\\mathbf x)= \\sigma( \\sum_{i=1}^V W_{ij} x_i + h_{bias} )$$, \n",
    "\n",
    "where $\\sigma(z) = (1+e^{-z})^{-1}$ is the logistic function.\n",
    "\n",
    "\n",
    "So, what does $p({h_j})$ represent? It is the <b>probability distribution</b> of the hidden units. That is, RBM uses inputs $x_i$ to make predictions about hidden node activations. For example, imagine that the hidden node activation values are [0.51 0.84] for the first training item. It tells you that the conditional probability for each hidden neuron for Phase 1 is: \n",
    "\n",
    "$$p(h_{1} = 1|\\mathbf{v}) = 0.51$$\n",
    "$$p(h_{2} = 1|\\mathbf{v}) = 0.84$$\n",
    "\n",
    "As a result, for each row in the training set, vector of probabilities is generated.  In TensorFlow, this is referred to as a `tensor` with a shape of (1,2). \n",
    "\n",
    "We then turn unit $j$ with probability $p(h_{j}|\\mathbf{v})$, and turn it off with probability $1 - p(h_{j}|\\mathbf{v})$ by generating a uniform random number vector $\\mathbf{\\xi}$, and comparing it to the activation probability as \n",
    "\n",
    "<center>If $\\xi_j>p(h_{j}|\\mathbf{v})$, then $h_j=1$, else $h_j=0$.</center>\n",
    "\n",
    "\n",
    "Therefore, the conditional probability of a configuration of $\\mathbf{h}$ given $\\mathbf{v}$ (for a training sample) is:\n",
    "\n",
    "$$p(\\mathbf{h} \\mid \\mathbf{v}) = \\prod_{j=1}^H p(h_j \\mid \\mathbf{v})$$\n",
    "\n",
    "\n",
    "where $H$ is the number of hidden units."
   ]
  },
  {
   "cell_type": "markdown",
   "metadata": {},
   "source": [
    "Before we go further, let's look at a toy example for one case out of all input. Assume that we have a trained RBM, and a very simple input vector, such as [1.0, 0.0, 0.0, 1.0, 0.0, 0.0, 0.0].   \n",
    "Let's see what the output of forward pass would look like:\n"
   ]
  },
  {
   "cell_type": "code",
   "execution_count": 8,
   "metadata": {},
   "outputs": [
    {
     "name": "stdout",
     "output_type": "stream",
     "text": [
      "Input:  tf.Tensor([[1. 0. 0. 1. 0. 0. 0.]], shape=(1, 7), dtype=float32)\n",
      "hb:  tf.Tensor([0.1 0.1], shape=(2,), dtype=float32)\n",
      "w:  tf.Tensor(\n",
      "[[-2.5808063e-01  1.3250563e+00]\n",
      " [ 1.2743714e+00  1.0408901e-03]\n",
      " [-4.7007278e-01  1.2767292e+00]\n",
      " [-4.1472897e-01  3.0288005e-01]\n",
      " [ 2.4884157e-01 -7.2596633e-01]\n",
      " [ 1.2166126e+00 -1.9749179e+00]\n",
      " [ 2.0956120e+00 -5.0073349e-01]], shape=(7, 2), dtype=float32)\n",
      "p(h|v):  tf.Tensor([[0.3605888 0.8491483]], shape=(1, 2), dtype=float32)\n",
      "h0 states: tf.Tensor([[0. 1.]], shape=(1, 2), dtype=float32)\n"
     ]
    }
   ],
   "source": [
    "X = tf.constant([[1.0, 0.0, 0.0, 1.0, 0.0, 0.0, 0.0]], tf.float32)\n",
    "\n",
    "v_state = X\n",
    "print (\"Input: \", v_state)\n",
    "\n",
    "h_bias = tf.constant([0.1, 0.1])\n",
    "print (\"hb: \", h_bias)\n",
    "print (\"w: \", W)\n",
    "\n",
    "# Calculate the probabilities of turning the hidden units on:\n",
    "h_prob = tf.nn.sigmoid(tf.matmul(v_state, W) + h_bias)  #probabilities of the hidden units\n",
    "print (\"p(h|v): \", h_prob)\n",
    "\n",
    "# Draw samples from the distribution:\n",
    "h_state = tf.nn.relu(tf.sign(h_prob - tf.random.uniform(tf.shape(h_prob)))) #states\n",
    "print (\"h0 states:\", h_state)"
   ]
  },
  {
   "cell_type": "markdown",
   "metadata": {},
   "source": [
    "<b>Phase 2) Backward Pass (Reconstruction):</b>\n",
    "The RBM reconstructs data by making several forward and backward passes between the visible and hidden layers.\n",
    "\n",
    "**So, in the second phase (i.e. reconstruction phase), the samples from the hidden layer (i.e. $\\mathbf h$) becomes the input in the backward pass. The same weight matrix and visible layer biases are used to passed to the sigmoid function. The reproduced output is a reconstruction which is an approximation of the original input.**"
   ]
  },
  {
   "cell_type": "code",
   "execution_count": 9,
   "metadata": {},
   "outputs": [
    {
     "name": "stdout",
     "output_type": "stream",
     "text": [
      "b:  tf.Tensor([0.1 0.2 0.1 0.1 0.1 0.2 0.1], shape=(7,), dtype=float32)\n",
      "p(vi∣h):  tf.Tensor(\n",
      "[[0.8061299  0.55009156 0.79846525 0.5993794  0.34842572 0.14493181\n",
      "  0.40113613]], shape=(1, 7), dtype=float32)\n",
      "v probability states:  tf.Tensor([[1. 0. 0. 1. 1. 0. 1.]], shape=(1, 7), dtype=float32)\n"
     ]
    }
   ],
   "source": [
    "vb = tf.constant([0.1, 0.2, 0.1, 0.1, 0.1, 0.2, 0.1])\n",
    "print (\"b: \", vb)\n",
    "v_prob = tf.nn.sigmoid(tf.matmul(h_state, tf.transpose(W)) + vb)\n",
    "print (\"p(vi∣h): \", v_prob)\n",
    "v_state = tf.nn.relu(tf.sign(v_prob - tf.random.uniform(tf.shape(v_prob))))\n",
    "print (\"v probability states: \", v_state)"
   ]
  },
  {
   "cell_type": "markdown",
   "metadata": {},
   "source": [
    "RBM learns a probability distribution over the input, and then, **after being trained, the RBM can generate new samples from the learned probability distribution.** As you know, <b>probability distribution</b>, is a mathematical function that provides the probabilities of occurrence of different possible outcomes in an experiment.\n",
    "\n",
    "The (conditional) probability distribution over the visible units v is given by\n",
    "\n",
    "$$p(\\mathbf{v} \\mid \\mathbf{h}) = \\prod_{i=1}^V p(v_i \\mid \\mathbf{h}),$$\n",
    "\n",
    "\n",
    "where,\n",
    "\n",
    "$$p(v_i \\mid \\mathbf{h}) = \\sigma\\left(\\sum_{j=1}^H W_{ji} h_j + v_{bias} \\right)$$\n",
    "\n",
    "so, **given current state of hidden units and weights, what is the probability of generating [1. 0. 0. 1. 0. 0. 0.] in reconstruction phase, based on the above <b>probability distribution</b> function?**\n"
   ]
  },
  {
   "cell_type": "code",
   "execution_count": 10,
   "metadata": {},
   "outputs": [
    {
     "name": "stdout",
     "output_type": "stream",
     "text": [
      "input X: [[1. 0. 0. 1. 0. 0. 0.]]\n",
      "probablity vector: [0.8061299  0.55009156 0.79846525 0.5993794  0.34842572 0.14493181\n",
      " 0.40113613]\n",
      "probability of generating X:  0.01461752\n"
     ]
    }
   ],
   "source": [
    "inp = X\n",
    "print(\"input X:\" , inp.numpy())\n",
    "\n",
    "print(\"probablity vector:\" , v_prob[0].numpy())\n",
    "v_probability = 1\n",
    "\n",
    "for elm, p in zip(inp[0],v_prob[0]) :\n",
    "    if elm ==1:\n",
    "        v_probability *= p\n",
    "    else:\n",
    "        v_probability *= (1-p)\n",
    "\n",
    "print(\"probability of generating X: \" , v_probability.numpy())"
   ]
  },
  {
   "cell_type": "markdown",
   "metadata": {},
   "source": [
    "**How similar are vectors $\\mathbf{x}$ and $\\mathbf{v}$?** Of course, the reconstructed values most likely will not look anything like the input vector, because our network has not been trained yet. Our objective is to train the model in such a way that the input vector and reconstructed vector to be same. Therefore, based on how different the input values look to the ones that we just reconstructed, the weights are adjusted. \n"
   ]
  },
  {
   "cell_type": "markdown",
   "metadata": {},
   "source": [
    "<hr>\n"
   ]
  },
  {
   "cell_type": "markdown",
   "metadata": {},
   "source": [
    "\n",
    "<h2>MNIST</h2>\n"
   ]
  },
  {
   "cell_type": "markdown",
   "metadata": {},
   "source": [
    "We will be using the MNIST dataset to practice the usage of RBMs. The following cell loads the MNIST dataset.\n"
   ]
  },
  {
   "cell_type": "code",
   "execution_count": 11,
   "metadata": {},
   "outputs": [],
   "source": [
    "#loading training and test data\n",
    "mnist = tf.keras.datasets.mnist\n",
    "(trX, trY), (teX, teY) = mnist.load_data()\n",
    "\n",
    "# showing an example of the Flatten class and operation\n",
    "from tensorflow.keras.layers import Flatten\n",
    "flatten = Flatten(dtype='float32')\n",
    "trX = flatten(trX/255.0)\n",
    "trY = flatten(trY/255.0)"
   ]
  },
  {
   "cell_type": "markdown",
   "metadata": {},
   "source": [
    "Lets look at the dimension of the images.\n"
   ]
  },
  {
   "cell_type": "markdown",
   "metadata": {},
   "source": [
    "MNIST images have 784 pixels, so the visible layer must have 784 input nodes.  For our case, we'll use 50 nodes in the hidden layer, so i = 50.\n"
   ]
  },
  {
   "cell_type": "code",
   "execution_count": 12,
   "metadata": {},
   "outputs": [],
   "source": [
    "vb = tf.Variable(tf.zeros([784]), tf.float32)\n",
    "hb = tf.Variable(tf.zeros([50]), tf.float32)"
   ]
  },
  {
   "cell_type": "markdown",
   "metadata": {},
   "source": [
    "Let $\\mathbf W$ be the Tensor of 784x50 (784 - number of visible neurons, 50 - number of hidden neurons) that represents weights between the neurons. \n"
   ]
  },
  {
   "cell_type": "code",
   "execution_count": 13,
   "metadata": {},
   "outputs": [],
   "source": [
    "W = tf.Variable(tf.zeros([784,50]), tf.float32)"
   ]
  },
  {
   "cell_type": "markdown",
   "metadata": {},
   "source": [
    "Lets define the visible layer:\n"
   ]
  },
  {
   "cell_type": "code",
   "execution_count": 14,
   "metadata": {},
   "outputs": [
    {
     "data": {
      "text/plain": [
       "<tf.Tensor: shape=(1, 50), dtype=float32, numpy=\n",
       "array([[0., 0., 0., 0., 0., 0., 0., 0., 0., 0., 0., 0., 0., 0., 0., 0.,\n",
       "        0., 0., 0., 0., 0., 0., 0., 0., 0., 0., 0., 0., 0., 0., 0., 0.,\n",
       "        0., 0., 0., 0., 0., 0., 0., 0., 0., 0., 0., 0., 0., 0., 0., 0.,\n",
       "        0., 0.]], dtype=float32)>"
      ]
     },
     "execution_count": 14,
     "metadata": {},
     "output_type": "execute_result"
    }
   ],
   "source": [
    "v0_state = tf.Variable(tf.zeros([784]), tf.float32)\n",
    "\n",
    "#testing to see if the matrix product works\n",
    "tf.matmul( [v0_state], W)"
   ]
  },
  {
   "cell_type": "markdown",
   "metadata": {},
   "source": [
    "Now, we can define hidden layer:\n"
   ]
  },
  {
   "cell_type": "code",
   "execution_count": 15,
   "metadata": {},
   "outputs": [
    {
     "name": "stdout",
     "output_type": "stream",
     "text": [
      "h0_state shape:  tf.Tensor([ 1 50], shape=(2,), dtype=int32)\n",
      "first 15 hidden states:  tf.Tensor([0. 1. 0. 0. 0. 0. 0. 0. 1. 0. 0. 1. 0. 1. 0.], shape=(15,), dtype=float32)\n"
     ]
    }
   ],
   "source": [
    "#computing the hidden nodes probability vector and checking shape\n",
    "h0_prob = tf.nn.sigmoid(tf.matmul([v0_state], W) + hb)  #probabilities of the hidden units\n",
    "print(\"h0_state shape: \" , tf.shape(h0_prob))\n",
    "\n",
    "#defining a function to return only the generated hidden states \n",
    "def hidden_layer(v0_state, W, hb):\n",
    "    h0_prob = tf.nn.sigmoid(tf.matmul([v0_state], W) + hb)  #probabilities of the hidden units\n",
    "    h0_state = tf.nn.relu(tf.sign(h0_prob - tf.random.uniform(tf.shape(h0_prob)))) #sample_h_given_X\n",
    "    return h0_state\n",
    "\n",
    "\n",
    "h0_state = hidden_layer(v0_state, W, hb)\n",
    "print(\"first 15 hidden states: \", h0_state[0][0:15])"
   ]
  },
  {
   "cell_type": "markdown",
   "metadata": {},
   "source": [
    "Now, we define reconstruction part:\n"
   ]
  },
  {
   "cell_type": "code",
   "execution_count": 16,
   "metadata": {},
   "outputs": [
    {
     "name": "stdout",
     "output_type": "stream",
     "text": [
      "hidden state shape:  (1, 50)\n",
      "v0 state shape:   (784,)\n",
      "v1 state shape:   (784,)\n"
     ]
    }
   ],
   "source": [
    "def reconstructed_output(h0_state, W, vb):\n",
    "    v1_prob = tf.nn.sigmoid(tf.matmul(h0_state, tf.transpose(W)) + vb) \n",
    "    v1_state = tf.nn.relu(tf.sign(v1_prob - tf.random.uniform(tf.shape(v1_prob)))) #sample_v_given_h\n",
    "    return v1_state[0]\n",
    "\n",
    "v1_state = reconstructed_output(h0_state, W, vb)\n",
    "print(\"hidden state shape: \", h0_state.shape)\n",
    "print(\"v0 state shape:  \", v0_state.shape)\n",
    "print(\"v1 state shape:  \", v1_state.shape)"
   ]
  },
  {
   "cell_type": "markdown",
   "metadata": {},
   "source": [
    "<h3>What is the objective function?</h3>\n",
    "\n",
    "<b>Goal</b>: Maximize the likelihood of our data being drawn from that distribution\n",
    "\n",
    "<b>Calculate error:</b>  \n",
    "In each epoch, we compute the \"error\" as a sum of the squared difference between step 1 and step n,\n",
    "e.g the error shows the difference between the data and its reconstruction.\n",
    "\n",
    "<b>Note:</b> tf.reduce_mean computes the mean of elements across dimensions of a tensor.\n"
   ]
  },
  {
   "cell_type": "code",
   "execution_count": 17,
   "metadata": {},
   "outputs": [
    {
     "name": "stdout",
     "output_type": "stream",
     "text": [
      "error 0.51658165\n"
     ]
    }
   ],
   "source": [
    "def error(v0_state, v1_state):\n",
    "    return tf.reduce_mean(tf.square(v0_state - v1_state))\n",
    "\n",
    "err = tf.reduce_mean(tf.square(v0_state - v1_state))\n",
    "print(\"error\" , err.numpy())"
   ]
  },
  {
   "cell_type": "markdown",
   "metadata": {},
   "source": [
    "<a id=\"ref4\"></a>\n",
    "<h3>Training the Model</h3>\n",
    "<b>Warning...</b> The following part is math-heavy, but you can skip it if you just want to run the cells in the next section.\n",
    "\n",
    "As mentioned, we want to give a high probability to the input data we train on. So, in order to train an RBM, we have to maximize the product of probabilities assigned to all rows $\\mathbf{v}$ (images) in the training set $\\mathbf{V}$ (a matrix, where each row of it is treated as a visible vector $\\mathbf{v}$)\n",
    "\n",
    "$$\\arg \\max_W \\prod_{\\mathbf{v}\\in\\mathbf{V}_T} p(\\mathbf{v})$$\n",
    "\n",
    "\n",
    "which is equivalent to maximizing the expectation of the log probability, given as\n",
    "\n",
    "$$\\arg\\max_W\\left[ \\mathbb{E} \\left(\\prod_{\\mathbf v\\in \\mathbf V}\\text{log} \\left(p(\\mathbf v)\\right) \\right) \\right].$$\n",
    "\n",
    "\n",
    "So, we have to update the weights $W_{ij}$  to increase $p(\\mathbf{v})$ for all $\\mathbf{v}$ in our training data during training. So we have to calculate the derivative:\n",
    "\n",
    "\n",
    "$$\\frac{\\partial \\log p(\\mathbf v)}{\\partial W_{ij}}$$\n",
    "\n",
    "This cannot be easily done by typical <b>gradient descent (SGD)</b>, so we can use another approach, which has 2 steps:\n",
    "<ol>\n",
    "    <li>Gibbs Sampling</li>\n",
    "    <li>Contrastive Divergence</li>\n",
    "</ol>    \n",
    "    \n",
    "<h3>Gibbs Sampling</h3>   \n",
    "\n",
    "<h4>Gibbs Sampling Step 1</h4> \n",
    "Given an input vector $\\mathbf{v}$, we are using $p(\\mathbf{h}|\\mathbf{v})$ to predict the hidden values $\\mathbf{h}$. \n",
    "  $$p({h_j}|\\mathbf v)= \\sigma\\left(\\sum_{i=1}^V W_{ij} v_i + h_{bias} \\right)$$\n",
    "The samples are generated from this distribution by generating the uniform random variate vector $\\mathbf{\\xi} \\sim U[0,1]$ of length $H$ and comparing to the computed probabilities as\n",
    "\n",
    "\n",
    "<center>If $\\xi_j>p(h_{j}|\\mathbf{v})$, then $h_j=1$, else $h_j=0$.</center>\n",
    "\n",
    "\n",
    "<h4>Gibbs Sampling Step 2</h4> \n",
    "Then, knowing the hidden values, we use $p(\\mathbf v| \\mathbf h)$ for reconstructing of new input values v. \n",
    "\n",
    "   $$p({v_i}|\\mathbf h)= \\sigma\\left(\\sum_{j=1}^H W^{T}_{ij} h_j + v_{bias} \\right)$$\n",
    "\n",
    "\n",
    "The samples are generated from this distribution by generating a uniform random variate vector $\\mathbf{\\xi} \\sim U[0,1]$ of length $V$ and comparing to the computed probabilities as\n",
    "\n",
    "<center>If $\\xi_i>p(v_{i}|\\mathbf{h})$, then $v_i=1$, else $v_i=0$.</center>\n",
    "\n",
    "Let vectors $\\mathbf v_k$ and $\\mathbf h_k$ be for the $k$th iteration.  In general, the $kth$ state is generrated as: \n",
    "\n",
    "\n",
    "    \n",
    "<b>Iteration</b> $k$: \n",
    "\n",
    "$$\\mathbf v_{k-1} \\Rightarrow p(\\mathbf h_{k-1}|\\mathbf v_{k-1})\\Rightarrow \\mathbf h_{k-1}\\Rightarrow p(\\mathbf v_{k}|\\mathbf h_{k-1})\\Rightarrow \\mathbf v_k$$       \n",
    "    \n",
    "<h3>Contrastive Divergence (CD-k)</h3>\n",
    "The update of the weight matrix is done during the Contrastive Divergence step. \n",
    "\n",
    "Vectors v0 and vk are used to calculate the activation probabilities for hidden values h0 and hk. The difference between the outer products of those probabilities with input vectors v0 and vk results in the update matrix:\n",
    "\n",
    "\n",
    "$$\\Delta \\mathbf W_k =\\mathbf v_k \\otimes \\mathbf h_k - \\mathbf v_{k-1} \\otimes \\mathbf h_{k-1}$$\n",
    "\n",
    "Contrastive Divergence is actually matrix of values that is computed and used to adjust values of the $\\mathbf W$ matrix. Changing $\\mathbf W$ incrementally leads to training of the  $\\mathbf W$ values. Then, on each step (epoch), $\\mathbf W$ is updated using the following:\n",
    "\n",
    "$$\\mathbf W_k = \\mathbf W_{k-1} + \\alpha * \\Delta \\mathbf W_k$$\n",
    "\n",
    "\n",
    "\n",
    "Reconstruction steps:\n",
    "<ul>\n",
    "    <li> Get one data point from data set, like <i>x</i>, and pass it through the following steps:</li>\n",
    "    \n",
    "<b>Iteration</b> $k=1$: \n",
    "    \n",
    "Sampling (starting with input image)\n",
    "    $$\\mathbf x = \\mathbf v_0 \\Rightarrow p(\\mathbf h_0|\\mathbf v_0)\\Rightarrow \\mathbf h_0 \\Rightarrow p(\\mathbf v_1|\\mathbf h_0)\\Rightarrow \\mathbf v_1$$   \n",
    "    followed by the CD-k step\n",
    "$$\\Delta \\mathbf W_1 =\\mathbf v_1 \\otimes \\mathbf h_1 - \\mathbf v_{0} \\otimes \\mathbf h_{0}$$     \n",
    "$$\\mathbf W_1 = \\mathbf W_{0} + \\alpha * \\Delta \\mathbf W_1$$ \n",
    " \n",
    "<li> $\\mathbf v_1$ is the reconstruction of $\\mathbf x$ sent to the next iteration).</li>\n",
    "\n",
    "<b>Iteration</b> $k=2$: \n",
    "\n",
    "Sampling (starting with $\\mathbf v_1$)\n",
    "\n",
    "$$\\mathbf v_1 \\Rightarrow p(\\mathbf h_1|\\mathbf v_1)\\Rightarrow \\mathbf h_1\\Rightarrow p(\\mathbf v_2|\\mathbf h_1)\\Rightarrow \\mathbf v_2$$   \n",
    "\n",
    "followed by the CD-k step\n",
    "$$\\Delta \\mathbf W_2 =\\mathbf v_2 \\otimes \\mathbf h_2 - \\mathbf v_{1} \\otimes \\mathbf h_{1}$$     \n",
    "$$\\mathbf W_2 = \\mathbf W_{1} + \\alpha * \\Delta \\mathbf W_2$$ \n",
    "\n",
    "<li> $\\mathbf v_2$ is the reconstruction of $\\mathbf v_1$ sent to the next iteration).</li>    \n",
    "      \n",
    "<b>Iteration</b> $k=K$:\n",
    "    \n",
    "Sampling (starting with $\\mathbf v_{K-1}$)\n",
    "\n",
    "$$\\mathbf v_{K-1} \\Rightarrow p(\\mathbf h_{K-1}|\\mathbf v_{K-1})\\Rightarrow \\mathbf h_{K-1}\\Rightarrow p(\\mathbf v_K|\\mathbf h_{K-1})\\Rightarrow \\mathbf v_K$$   \n",
    "\n",
    "followed by the CD-k step\n",
    "$$\\Delta \\mathbf W_K =\\mathbf v_K \\otimes \\mathbf h_K - \\mathbf v_{K-1} \\otimes \\mathbf h_{K-1}$$     \n",
    "$$\\mathbf W_K = \\mathbf W_{K-1} + \\alpha * \\Delta \\mathbf W_K$$ \n",
    "    \n",
    "<b>What is $\\alpha$?</b>  \n",
    "Here, alpha is some small step size, and is also known as the \"learning rate\".\n"
   ]
  },
  {
   "cell_type": "markdown",
   "metadata": {},
   "source": [
    "$K$ is adjustable, and good performance can be achieved with $K=1$, so that we just take one set of sampling steps per image.\n"
   ]
  },
  {
   "cell_type": "code",
   "execution_count": 18,
   "metadata": {},
   "outputs": [],
   "source": [
    "h1_prob = tf.nn.sigmoid(tf.matmul([v1_state], W) + hb)\n",
    "h1_state = tf.nn.relu(tf.sign(h1_prob - tf.random.uniform(tf.shape(h1_prob)))) #sample_h_given_X"
   ]
  },
  {
   "cell_type": "markdown",
   "metadata": {},
   "source": [
    "Lets look at the error of the first run:\n"
   ]
  },
  {
   "cell_type": "code",
   "execution_count": 19,
   "metadata": {},
   "outputs": [
    {
     "name": "stdout",
     "output_type": "stream",
     "text": [
      "error:  tf.Tensor(0.51658165, shape=(), dtype=float32)\n"
     ]
    }
   ],
   "source": [
    "print(\"error: \", error(v0_state, v1_state))"
   ]
  },
  {
   "cell_type": "code",
   "execution_count": 20,
   "metadata": {},
   "outputs": [
    {
     "name": "stdout",
     "output_type": "stream",
     "text": [
      "Epoch: 0 batch #: 1  of 300 sample #: 199 reconstruction error: 0.149663\n",
      "Epoch: 0 batch #: 2  of 300 sample #: 199 reconstruction error: 0.203139\n",
      "Epoch: 0 batch #: 3  of 300 sample #: 199 reconstruction error: 0.120334\n",
      "Epoch: 0 batch #: 4  of 300 sample #: 199 reconstruction error: 0.105173\n",
      "Epoch: 0 batch #: 5  of 300 sample #: 199 reconstruction error: 0.112233\n",
      "Epoch: 0 batch #: 6  of 300 sample #: 199 reconstruction error: 0.189060\n",
      "Epoch: 0 batch #: 7  of 300 sample #: 199 reconstruction error: 0.086758\n",
      "Epoch: 0 batch #: 8  of 300 sample #: 199 reconstruction error: 0.102892\n",
      "Epoch: 0 batch #: 9  of 300 sample #: 199 reconstruction error: 0.083000\n",
      "Epoch: 0 batch #: 10  of 300 sample #: 199 reconstruction error: 0.180158\n",
      "Epoch: 0 batch #: 11  of 300 sample #: 199 reconstruction error: 0.080677\n",
      "Epoch: 0 batch #: 12  of 300 sample #: 199 reconstruction error: 0.133965\n",
      "Epoch: 0 batch #: 13  of 300 sample #: 199 reconstruction error: 0.072057\n",
      "Epoch: 0 batch #: 14  of 300 sample #: 199 reconstruction error: 0.115267\n",
      "Epoch: 0 batch #: 15  of 300 sample #: 199 reconstruction error: 0.108734\n",
      "Epoch: 0 batch #: 16  of 300 sample #: 199 reconstruction error: 0.096988\n",
      "Epoch: 0 batch #: 17  of 300 sample #: 199 reconstruction error: 0.087898\n",
      "Epoch: 0 batch #: 18  of 300 sample #: 199 reconstruction error: 0.126242\n",
      "Epoch: 0 batch #: 19  of 300 sample #: 199 reconstruction error: 0.136319\n",
      "Epoch: 0 batch #: 20  of 300 sample #: 199 reconstruction error: 0.107768\n",
      "Epoch: 0 batch #: 21  of 300 sample #: 199 reconstruction error: 0.113048\n",
      "Epoch: 0 batch #: 22  of 300 sample #: 199 reconstruction error: 0.083551\n",
      "Epoch: 0 batch #: 23  of 300 sample #: 199 reconstruction error: 0.105578\n",
      "Epoch: 0 batch #: 24  of 300 sample #: 199 reconstruction error: 0.144582\n",
      "Epoch: 0 batch #: 25  of 300 sample #: 199 reconstruction error: 0.103891\n",
      "Epoch: 0 batch #: 26  of 300 sample #: 199 reconstruction error: 0.110936\n",
      "Epoch: 0 batch #: 27  of 300 sample #: 199 reconstruction error: 0.100090\n",
      "Epoch: 0 batch #: 28  of 300 sample #: 199 reconstruction error: 0.069249\n",
      "Epoch: 0 batch #: 29  of 300 sample #: 199 reconstruction error: 0.094613\n",
      "Epoch: 0 batch #: 30  of 300 sample #: 199 reconstruction error: 0.066964\n",
      "Epoch: 0 batch #: 31  of 300 sample #: 199 reconstruction error: 0.083545\n",
      "Epoch: 0 batch #: 32  of 300 sample #: 199 reconstruction error: 0.105218\n",
      "Epoch: 0 batch #: 33  of 300 sample #: 199 reconstruction error: 0.058097\n",
      "Epoch: 0 batch #: 34  of 300 sample #: 199 reconstruction error: 0.063686\n",
      "Epoch: 0 batch #: 35  of 300 sample #: 199 reconstruction error: 0.077171\n",
      "Epoch: 0 batch #: 36  of 300 sample #: 199 reconstruction error: 0.079417\n",
      "Epoch: 0 batch #: 37  of 300 sample #: 199 reconstruction error: 0.058647\n",
      "Epoch: 0 batch #: 38  of 300 sample #: 199 reconstruction error: 0.069938\n",
      "Epoch: 0 batch #: 39  of 300 sample #: 199 reconstruction error: 0.104362\n",
      "Epoch: 0 batch #: 40  of 300 sample #: 199 reconstruction error: 0.097168\n",
      "Epoch: 0 batch #: 41  of 300 sample #: 199 reconstruction error: 0.095630\n",
      "Epoch: 0 batch #: 42  of 300 sample #: 199 reconstruction error: 0.077614\n",
      "Epoch: 0 batch #: 43  of 300 sample #: 199 reconstruction error: 0.121172\n",
      "Epoch: 0 batch #: 44  of 300 sample #: 199 reconstruction error: 0.077277\n",
      "Epoch: 0 batch #: 45  of 300 sample #: 199 reconstruction error: 0.057391\n",
      "Epoch: 0 batch #: 46  of 300 sample #: 199 reconstruction error: 0.032166\n",
      "Epoch: 0 batch #: 47  of 300 sample #: 199 reconstruction error: 0.045217\n",
      "Epoch: 0 batch #: 48  of 300 sample #: 199 reconstruction error: 0.047809\n",
      "Epoch: 0 batch #: 49  of 300 sample #: 199 reconstruction error: 0.138208\n",
      "Epoch: 0 batch #: 50  of 300 sample #: 199 reconstruction error: 0.048762\n",
      "Epoch: 0 batch #: 51  of 300 sample #: 199 reconstruction error: 0.062170\n",
      "Epoch: 0 batch #: 52  of 300 sample #: 199 reconstruction error: 0.033455\n",
      "Epoch: 0 batch #: 53  of 300 sample #: 199 reconstruction error: 0.109143\n",
      "Epoch: 0 batch #: 54  of 300 sample #: 199 reconstruction error: 0.071137\n",
      "Epoch: 0 batch #: 55  of 300 sample #: 199 reconstruction error: 0.105903\n",
      "Epoch: 0 batch #: 56  of 300 sample #: 199 reconstruction error: 0.066585\n",
      "Epoch: 0 batch #: 57  of 300 sample #: 199 reconstruction error: 0.060699\n",
      "Epoch: 0 batch #: 58  of 300 sample #: 199 reconstruction error: 0.072471\n",
      "Epoch: 0 batch #: 59  of 300 sample #: 199 reconstruction error: 0.057947\n",
      "Epoch: 0 batch #: 60  of 300 sample #: 199 reconstruction error: 0.092529\n",
      "Epoch: 0 batch #: 61  of 300 sample #: 199 reconstruction error: 0.062094\n",
      "Epoch: 0 batch #: 62  of 300 sample #: 199 reconstruction error: 0.075081\n",
      "Epoch: 0 batch #: 63  of 300 sample #: 199 reconstruction error: 0.072448\n",
      "Epoch: 0 batch #: 64  of 300 sample #: 199 reconstruction error: 0.095911\n",
      "Epoch: 0 batch #: 65  of 300 sample #: 199 reconstruction error: 0.076736\n",
      "Epoch: 0 batch #: 66  of 300 sample #: 199 reconstruction error: 0.068479\n",
      "Epoch: 0 batch #: 67  of 300 sample #: 199 reconstruction error: 0.046924\n",
      "Epoch: 0 batch #: 68  of 300 sample #: 199 reconstruction error: 0.070096\n",
      "Epoch: 0 batch #: 69  of 300 sample #: 199 reconstruction error: 0.081762\n",
      "Epoch: 0 batch #: 70  of 300 sample #: 199 reconstruction error: 0.098859\n",
      "Epoch: 0 batch #: 71  of 300 sample #: 199 reconstruction error: 0.073744\n",
      "Epoch: 0 batch #: 72  of 300 sample #: 199 reconstruction error: 0.070384\n",
      "Epoch: 0 batch #: 73  of 300 sample #: 199 reconstruction error: 0.073703\n",
      "Epoch: 0 batch #: 74  of 300 sample #: 199 reconstruction error: 0.108350\n",
      "Epoch: 0 batch #: 75  of 300 sample #: 199 reconstruction error: 0.054800\n",
      "Epoch: 0 batch #: 76  of 300 sample #: 199 reconstruction error: 0.079972\n",
      "Epoch: 0 batch #: 77  of 300 sample #: 199 reconstruction error: 0.103380\n",
      "Epoch: 0 batch #: 78  of 300 sample #: 199 reconstruction error: 0.101353\n",
      "Epoch: 0 batch #: 79  of 300 sample #: 199 reconstruction error: 0.101924\n",
      "Epoch: 0 batch #: 80  of 300 sample #: 199 reconstruction error: 0.034497\n",
      "Epoch: 0 batch #: 81  of 300 sample #: 199 reconstruction error: 0.049219\n",
      "Epoch: 0 batch #: 82  of 300 sample #: 199 reconstruction error: 0.058172\n",
      "Epoch: 0 batch #: 83  of 300 sample #: 199 reconstruction error: 0.071873\n",
      "Epoch: 0 batch #: 84  of 300 sample #: 199 reconstruction error: 0.088302\n",
      "Epoch: 0 batch #: 85  of 300 sample #: 199 reconstruction error: 0.059444\n",
      "Epoch: 0 batch #: 86  of 300 sample #: 199 reconstruction error: 0.093267\n",
      "Epoch: 0 batch #: 87  of 300 sample #: 199 reconstruction error: 0.086010\n",
      "Epoch: 0 batch #: 88  of 300 sample #: 199 reconstruction error: 0.031473\n",
      "Epoch: 0 batch #: 89  of 300 sample #: 199 reconstruction error: 0.068002\n",
      "Epoch: 0 batch #: 90  of 300 sample #: 199 reconstruction error: 0.078106\n",
      "Epoch: 0 batch #: 91  of 300 sample #: 199 reconstruction error: 0.060841\n",
      "Epoch: 0 batch #: 92  of 300 sample #: 199 reconstruction error: 0.063983\n",
      "Epoch: 0 batch #: 93  of 300 sample #: 199 reconstruction error: 0.122035\n",
      "Epoch: 0 batch #: 94  of 300 sample #: 199 reconstruction error: 0.111309\n",
      "Epoch: 0 batch #: 95  of 300 sample #: 199 reconstruction error: 0.049504\n",
      "Epoch: 0 batch #: 96  of 300 sample #: 199 reconstruction error: 0.060388\n",
      "Epoch: 0 batch #: 97  of 300 sample #: 199 reconstruction error: 0.108521\n",
      "Epoch: 0 batch #: 98  of 300 sample #: 199 reconstruction error: 0.093171\n",
      "Epoch: 0 batch #: 99  of 300 sample #: 199 reconstruction error: 0.058611\n",
      "Epoch: 0 batch #: 100  of 300 sample #: 199 reconstruction error: 0.096738\n",
      "Epoch: 0 batch #: 101  of 300 sample #: 199 reconstruction error: 0.064303\n",
      "Epoch: 0 batch #: 102  of 300 sample #: 199 reconstruction error: 0.080801\n",
      "Epoch: 0 batch #: 103  of 300 sample #: 199 reconstruction error: 0.084782\n",
      "Epoch: 0 batch #: 104  of 300 sample #: 199 reconstruction error: 0.064555\n",
      "Epoch: 0 batch #: 105  of 300 sample #: 199 reconstruction error: 0.057305\n",
      "Epoch: 0 batch #: 106  of 300 sample #: 199 reconstruction error: 0.121973\n",
      "Epoch: 0 batch #: 107  of 300 sample #: 199 reconstruction error: 0.125013\n",
      "Epoch: 0 batch #: 108  of 300 sample #: 199 reconstruction error: 0.067096\n",
      "Epoch: 0 batch #: 109  of 300 sample #: 199 reconstruction error: 0.106468\n",
      "Epoch: 0 batch #: 110  of 300 sample #: 199 reconstruction error: 0.051238\n",
      "Epoch: 0 batch #: 111  of 300 sample #: 199 reconstruction error: 0.098611\n",
      "Epoch: 0 batch #: 112  of 300 sample #: 199 reconstruction error: 0.045558\n",
      "Epoch: 0 batch #: 113  of 300 sample #: 199 reconstruction error: 0.062899\n",
      "Epoch: 0 batch #: 114  of 300 sample #: 199 reconstruction error: 0.069432\n",
      "Epoch: 0 batch #: 115  of 300 sample #: 199 reconstruction error: 0.060851\n",
      "Epoch: 0 batch #: 116  of 300 sample #: 199 reconstruction error: 0.048629\n",
      "Epoch: 0 batch #: 117  of 300 sample #: 199 reconstruction error: 0.044878\n",
      "Epoch: 0 batch #: 118  of 300 sample #: 199 reconstruction error: 0.089247\n",
      "Epoch: 0 batch #: 119  of 300 sample #: 199 reconstruction error: 0.112924\n",
      "Epoch: 0 batch #: 120  of 300 sample #: 199 reconstruction error: 0.094909\n",
      "Epoch: 0 batch #: 121  of 300 sample #: 199 reconstruction error: 0.053222\n",
      "Epoch: 0 batch #: 122  of 300 sample #: 199 reconstruction error: 0.092349\n",
      "Epoch: 0 batch #: 123  of 300 sample #: 199 reconstruction error: 0.067634\n",
      "Epoch: 0 batch #: 124  of 300 sample #: 199 reconstruction error: 0.062805\n",
      "Epoch: 0 batch #: 125  of 300 sample #: 199 reconstruction error: 0.043631\n",
      "Epoch: 0 batch #: 126  of 300 sample #: 199 reconstruction error: 0.104015\n",
      "Epoch: 0 batch #: 127  of 300 sample #: 199 reconstruction error: 0.077010\n",
      "Epoch: 0 batch #: 128  of 300 sample #: 199 reconstruction error: 0.066121\n",
      "Epoch: 0 batch #: 129  of 300 sample #: 199 reconstruction error: 0.054667\n",
      "Epoch: 0 batch #: 130  of 300 sample #: 199 reconstruction error: 0.073848\n",
      "Epoch: 0 batch #: 131  of 300 sample #: 199 reconstruction error: 0.064768\n",
      "Epoch: 0 batch #: 132  of 300 sample #: 199 reconstruction error: 0.054924\n",
      "Epoch: 0 batch #: 133  of 300 sample #: 199 reconstruction error: 0.054449\n",
      "Epoch: 0 batch #: 134  of 300 sample #: 199 reconstruction error: 0.098833\n",
      "Epoch: 0 batch #: 135  of 300 sample #: 199 reconstruction error: 0.092693\n",
      "Epoch: 0 batch #: 136  of 300 sample #: 199 reconstruction error: 0.092846\n",
      "Epoch: 0 batch #: 137  of 300 sample #: 199 reconstruction error: 0.079920\n",
      "Epoch: 0 batch #: 138  of 300 sample #: 199 reconstruction error: 0.079895\n",
      "Epoch: 0 batch #: 139  of 300 sample #: 199 reconstruction error: 0.126556\n",
      "Epoch: 0 batch #: 140  of 300 sample #: 199 reconstruction error: 0.071454\n",
      "Epoch: 0 batch #: 141  of 300 sample #: 199 reconstruction error: 0.083300\n",
      "Epoch: 0 batch #: 142  of 300 sample #: 199 reconstruction error: 0.058985\n",
      "Epoch: 0 batch #: 143  of 300 sample #: 199 reconstruction error: 0.066675\n",
      "Epoch: 0 batch #: 144  of 300 sample #: 199 reconstruction error: 0.055753\n",
      "Epoch: 0 batch #: 145  of 300 sample #: 199 reconstruction error: 0.107987\n",
      "Epoch: 0 batch #: 146  of 300 sample #: 199 reconstruction error: 0.105911\n",
      "Epoch: 0 batch #: 147  of 300 sample #: 199 reconstruction error: 0.068099\n",
      "Epoch: 0 batch #: 148  of 300 sample #: 199 reconstruction error: 0.099014\n",
      "Epoch: 0 batch #: 149  of 300 sample #: 199 reconstruction error: 0.069507\n",
      "Epoch: 0 batch #: 150  of 300 sample #: 199 reconstruction error: 0.049097\n",
      "Epoch: 0 batch #: 151  of 300 sample #: 199 reconstruction error: 0.111719\n",
      "Epoch: 0 batch #: 152  of 300 sample #: 199 reconstruction error: 0.092718\n",
      "Epoch: 0 batch #: 153  of 300 sample #: 199 reconstruction error: 0.046001\n",
      "Epoch: 0 batch #: 154  of 300 sample #: 199 reconstruction error: 0.070721\n",
      "Epoch: 0 batch #: 155  of 300 sample #: 199 reconstruction error: 0.063963\n",
      "Epoch: 0 batch #: 156  of 300 sample #: 199 reconstruction error: 0.081359\n",
      "Epoch: 0 batch #: 157  of 300 sample #: 199 reconstruction error: 0.082505\n",
      "Epoch: 0 batch #: 158  of 300 sample #: 199 reconstruction error: 0.067488\n",
      "Epoch: 0 batch #: 159  of 300 sample #: 199 reconstruction error: 0.068715\n",
      "Epoch: 0 batch #: 160  of 300 sample #: 199 reconstruction error: 0.073119\n",
      "Epoch: 0 batch #: 161  of 300 sample #: 199 reconstruction error: 0.084155\n",
      "Epoch: 0 batch #: 162  of 300 sample #: 199 reconstruction error: 0.097472\n",
      "Epoch: 0 batch #: 163  of 300 sample #: 199 reconstruction error: 0.049961\n",
      "Epoch: 0 batch #: 164  of 300 sample #: 199 reconstruction error: 0.070507\n",
      "Epoch: 0 batch #: 165  of 300 sample #: 199 reconstruction error: 0.085767\n",
      "Epoch: 0 batch #: 166  of 300 sample #: 199 reconstruction error: 0.062076\n",
      "Epoch: 0 batch #: 167  of 300 sample #: 199 reconstruction error: 0.074765\n",
      "Epoch: 0 batch #: 168  of 300 sample #: 199 reconstruction error: 0.047721\n",
      "Epoch: 0 batch #: 169  of 300 sample #: 199 reconstruction error: 0.044584\n",
      "Epoch: 0 batch #: 170  of 300 sample #: 199 reconstruction error: 0.067352\n",
      "Epoch: 0 batch #: 171  of 300 sample #: 199 reconstruction error: 0.049423\n",
      "Epoch: 0 batch #: 172  of 300 sample #: 199 reconstruction error: 0.048136\n",
      "Epoch: 0 batch #: 173  of 300 sample #: 199 reconstruction error: 0.082863\n",
      "Epoch: 0 batch #: 174  of 300 sample #: 199 reconstruction error: 0.118767\n",
      "Epoch: 0 batch #: 175  of 300 sample #: 199 reconstruction error: 0.059963\n",
      "Epoch: 0 batch #: 176  of 300 sample #: 199 reconstruction error: 0.044831\n",
      "Epoch: 0 batch #: 177  of 300 sample #: 199 reconstruction error: 0.047231\n",
      "Epoch: 0 batch #: 178  of 300 sample #: 199 reconstruction error: 0.104745\n",
      "Epoch: 0 batch #: 179  of 300 sample #: 199 reconstruction error: 0.071853\n",
      "Epoch: 0 batch #: 180  of 300 sample #: 199 reconstruction error: 0.081195\n",
      "Epoch: 0 batch #: 181  of 300 sample #: 199 reconstruction error: 0.123384\n",
      "Epoch: 0 batch #: 182  of 300 sample #: 199 reconstruction error: 0.069178\n",
      "Epoch: 0 batch #: 183  of 300 sample #: 199 reconstruction error: 0.105868\n",
      "Epoch: 0 batch #: 184  of 300 sample #: 199 reconstruction error: 0.062868\n",
      "Epoch: 0 batch #: 185  of 300 sample #: 199 reconstruction error: 0.095082\n",
      "Epoch: 0 batch #: 186  of 300 sample #: 199 reconstruction error: 0.104745\n",
      "Epoch: 0 batch #: 187  of 300 sample #: 199 reconstruction error: 0.055067\n",
      "Epoch: 0 batch #: 188  of 300 sample #: 199 reconstruction error: 0.116697\n",
      "Epoch: 0 batch #: 189  of 300 sample #: 199 reconstruction error: 0.078282\n",
      "Epoch: 0 batch #: 190  of 300 sample #: 199 reconstruction error: 0.067915\n",
      "Epoch: 0 batch #: 191  of 300 sample #: 199 reconstruction error: 0.107254\n",
      "Epoch: 0 batch #: 192  of 300 sample #: 199 reconstruction error: 0.124561\n",
      "Epoch: 0 batch #: 193  of 300 sample #: 199 reconstruction error: 0.108811\n",
      "Epoch: 0 batch #: 194  of 300 sample #: 199 reconstruction error: 0.078319\n",
      "Epoch: 0 batch #: 195  of 300 sample #: 199 reconstruction error: 0.060694\n",
      "Epoch: 0 batch #: 196  of 300 sample #: 199 reconstruction error: 0.039690\n",
      "Epoch: 0 batch #: 197  of 300 sample #: 199 reconstruction error: 0.066414\n",
      "Epoch: 0 batch #: 198  of 300 sample #: 199 reconstruction error: 0.110412\n",
      "Epoch: 0 batch #: 199  of 300 sample #: 199 reconstruction error: 0.069910\n",
      "Epoch: 0 batch #: 200  of 300 sample #: 199 reconstruction error: 0.119888\n",
      "Epoch: 0 batch #: 201  of 300 sample #: 199 reconstruction error: 0.086516\n",
      "Epoch: 0 batch #: 202  of 300 sample #: 199 reconstruction error: 0.027363\n",
      "Epoch: 0 batch #: 203  of 300 sample #: 199 reconstruction error: 0.079587\n",
      "Epoch: 0 batch #: 204  of 300 sample #: 199 reconstruction error: 0.051770\n",
      "Epoch: 0 batch #: 205  of 300 sample #: 199 reconstruction error: 0.025287\n",
      "Epoch: 0 batch #: 206  of 300 sample #: 199 reconstruction error: 0.072141\n",
      "Epoch: 0 batch #: 207  of 300 sample #: 199 reconstruction error: 0.090892\n",
      "Epoch: 0 batch #: 208  of 300 sample #: 199 reconstruction error: 0.060287\n",
      "Epoch: 0 batch #: 209  of 300 sample #: 199 reconstruction error: 0.024473\n",
      "Epoch: 0 batch #: 210  of 300 sample #: 199 reconstruction error: 0.104114\n",
      "Epoch: 0 batch #: 211  of 300 sample #: 199 reconstruction error: 0.106405\n",
      "Epoch: 0 batch #: 212  of 300 sample #: 199 reconstruction error: 0.083917\n",
      "Epoch: 0 batch #: 213  of 300 sample #: 199 reconstruction error: 0.103439\n",
      "Epoch: 0 batch #: 214  of 300 sample #: 199 reconstruction error: 0.110492\n",
      "Epoch: 0 batch #: 215  of 300 sample #: 199 reconstruction error: 0.036160\n",
      "Epoch: 0 batch #: 216  of 300 sample #: 199 reconstruction error: 0.095910\n",
      "Epoch: 0 batch #: 217  of 300 sample #: 199 reconstruction error: 0.080391\n",
      "Epoch: 0 batch #: 218  of 300 sample #: 199 reconstruction error: 0.063029\n",
      "Epoch: 0 batch #: 219  of 300 sample #: 199 reconstruction error: 0.057180\n",
      "Epoch: 0 batch #: 220  of 300 sample #: 199 reconstruction error: 0.058530\n",
      "Epoch: 0 batch #: 221  of 300 sample #: 199 reconstruction error: 0.087548\n",
      "Epoch: 0 batch #: 222  of 300 sample #: 199 reconstruction error: 0.096645\n",
      "Epoch: 0 batch #: 223  of 300 sample #: 199 reconstruction error: 0.074944\n",
      "Epoch: 0 batch #: 224  of 300 sample #: 199 reconstruction error: 0.060059\n",
      "Epoch: 0 batch #: 225  of 300 sample #: 199 reconstruction error: 0.074370\n",
      "Epoch: 0 batch #: 226  of 300 sample #: 199 reconstruction error: 0.120479\n",
      "Epoch: 0 batch #: 227  of 300 sample #: 199 reconstruction error: 0.072404\n",
      "Epoch: 0 batch #: 228  of 300 sample #: 199 reconstruction error: 0.055451\n",
      "Epoch: 0 batch #: 229  of 300 sample #: 199 reconstruction error: 0.085319\n",
      "Epoch: 0 batch #: 230  of 300 sample #: 199 reconstruction error: 0.034798\n",
      "Epoch: 0 batch #: 231  of 300 sample #: 199 reconstruction error: 0.025274\n",
      "Epoch: 0 batch #: 232  of 300 sample #: 199 reconstruction error: 0.076857\n",
      "Epoch: 0 batch #: 233  of 300 sample #: 199 reconstruction error: 0.092569\n",
      "Epoch: 0 batch #: 234  of 300 sample #: 199 reconstruction error: 0.073715\n",
      "Epoch: 0 batch #: 235  of 300 sample #: 199 reconstruction error: 0.073101\n",
      "Epoch: 0 batch #: 236  of 300 sample #: 199 reconstruction error: 0.106269\n",
      "Epoch: 0 batch #: 237  of 300 sample #: 199 reconstruction error: 0.076524\n",
      "Epoch: 0 batch #: 238  of 300 sample #: 199 reconstruction error: 0.107287\n",
      "Epoch: 0 batch #: 239  of 300 sample #: 199 reconstruction error: 0.021553\n",
      "Epoch: 0 batch #: 240  of 300 sample #: 199 reconstruction error: 0.091024\n",
      "Epoch: 0 batch #: 241  of 300 sample #: 199 reconstruction error: 0.080815\n",
      "Epoch: 0 batch #: 242  of 300 sample #: 199 reconstruction error: 0.060506\n",
      "Epoch: 0 batch #: 243  of 300 sample #: 199 reconstruction error: 0.058990\n",
      "Epoch: 0 batch #: 244  of 300 sample #: 199 reconstruction error: 0.087936\n",
      "Epoch: 0 batch #: 245  of 300 sample #: 199 reconstruction error: 0.068100\n",
      "Epoch: 0 batch #: 246  of 300 sample #: 199 reconstruction error: 0.074064\n",
      "Epoch: 0 batch #: 247  of 300 sample #: 199 reconstruction error: 0.058440\n",
      "Epoch: 0 batch #: 248  of 300 sample #: 199 reconstruction error: 0.067512\n",
      "Epoch: 0 batch #: 249  of 300 sample #: 199 reconstruction error: 0.054770\n",
      "Epoch: 0 batch #: 250  of 300 sample #: 199 reconstruction error: 0.096670\n",
      "Epoch: 0 batch #: 251  of 300 sample #: 199 reconstruction error: 0.043269\n",
      "Epoch: 0 batch #: 252  of 300 sample #: 199 reconstruction error: 0.068476\n",
      "Epoch: 0 batch #: 253  of 300 sample #: 199 reconstruction error: 0.049332\n",
      "Epoch: 0 batch #: 254  of 300 sample #: 199 reconstruction error: 0.031844\n",
      "Epoch: 0 batch #: 255  of 300 sample #: 199 reconstruction error: 0.056228\n",
      "Epoch: 0 batch #: 256  of 300 sample #: 199 reconstruction error: 0.085783\n",
      "Epoch: 0 batch #: 257  of 300 sample #: 199 reconstruction error: 0.071596\n",
      "Epoch: 0 batch #: 258  of 300 sample #: 199 reconstruction error: 0.087508\n",
      "Epoch: 0 batch #: 259  of 300 sample #: 199 reconstruction error: 0.067270\n",
      "Epoch: 0 batch #: 260  of 300 sample #: 199 reconstruction error: 0.096222\n",
      "Epoch: 0 batch #: 261  of 300 sample #: 199 reconstruction error: 0.043065\n",
      "Epoch: 0 batch #: 262  of 300 sample #: 199 reconstruction error: 0.056469\n",
      "Epoch: 0 batch #: 263  of 300 sample #: 199 reconstruction error: 0.091907\n",
      "Epoch: 0 batch #: 264  of 300 sample #: 199 reconstruction error: 0.082213\n",
      "Epoch: 0 batch #: 265  of 300 sample #: 199 reconstruction error: 0.059299\n",
      "Epoch: 0 batch #: 266  of 300 sample #: 199 reconstruction error: 0.041316\n",
      "Epoch: 0 batch #: 267  of 300 sample #: 199 reconstruction error: 0.066196\n",
      "Epoch: 0 batch #: 268  of 300 sample #: 199 reconstruction error: 0.021894\n",
      "Epoch: 0 batch #: 269  of 300 sample #: 199 reconstruction error: 0.100838\n",
      "Epoch: 0 batch #: 270  of 300 sample #: 199 reconstruction error: 0.089659\n",
      "Epoch: 0 batch #: 271  of 300 sample #: 199 reconstruction error: 0.044723\n",
      "Epoch: 0 batch #: 272  of 300 sample #: 199 reconstruction error: 0.056019\n",
      "Epoch: 0 batch #: 273  of 300 sample #: 199 reconstruction error: 0.055548\n",
      "Epoch: 0 batch #: 274  of 300 sample #: 199 reconstruction error: 0.052676\n",
      "Epoch: 0 batch #: 275  of 300 sample #: 199 reconstruction error: 0.102462\n",
      "Epoch: 0 batch #: 276  of 300 sample #: 199 reconstruction error: 0.083790\n",
      "Epoch: 0 batch #: 277  of 300 sample #: 199 reconstruction error: 0.078981\n",
      "Epoch: 0 batch #: 278  of 300 sample #: 199 reconstruction error: 0.065292\n",
      "Epoch: 0 batch #: 279  of 300 sample #: 199 reconstruction error: 0.056258\n",
      "Epoch: 0 batch #: 280  of 300 sample #: 199 reconstruction error: 0.078289\n",
      "Epoch: 0 batch #: 281  of 300 sample #: 199 reconstruction error: 0.073159\n",
      "Epoch: 0 batch #: 282  of 300 sample #: 199 reconstruction error: 0.098443\n",
      "Epoch: 0 batch #: 283  of 300 sample #: 199 reconstruction error: 0.056335\n",
      "Epoch: 0 batch #: 284  of 300 sample #: 199 reconstruction error: 0.055439\n",
      "Epoch: 0 batch #: 285  of 300 sample #: 199 reconstruction error: 0.072879\n",
      "Epoch: 0 batch #: 286  of 300 sample #: 199 reconstruction error: 0.085160\n",
      "Epoch: 0 batch #: 287  of 300 sample #: 199 reconstruction error: 0.067118\n",
      "Epoch: 0 batch #: 288  of 300 sample #: 199 reconstruction error: 0.018869\n",
      "Epoch: 0 batch #: 289  of 300 sample #: 199 reconstruction error: 0.082056\n",
      "Epoch: 0 batch #: 290  of 300 sample #: 199 reconstruction error: 0.094902\n",
      "Epoch: 0 batch #: 291  of 300 sample #: 199 reconstruction error: 0.103726\n",
      "Epoch: 0 batch #: 292  of 300 sample #: 199 reconstruction error: 0.075974\n",
      "Epoch: 0 batch #: 293  of 300 sample #: 199 reconstruction error: 0.075098\n",
      "Epoch: 0 batch #: 294  of 300 sample #: 199 reconstruction error: 0.077479\n",
      "Epoch: 0 batch #: 295  of 300 sample #: 199 reconstruction error: 0.079234\n",
      "Epoch: 0 batch #: 296  of 300 sample #: 199 reconstruction error: 0.019576\n",
      "Epoch: 0 batch #: 297  of 300 sample #: 199 reconstruction error: 0.103181\n",
      "Epoch: 0 batch #: 298  of 300 sample #: 199 reconstruction error: 0.049866\n",
      "Epoch: 0 batch #: 299  of 300 sample #: 199 reconstruction error: 0.050526\n",
      "Epoch: 0 batch #: 300  of 300 sample #: 199 reconstruction error: 0.074656\n"
     ]
    }
   ],
   "source": [
    "#Parameters\n",
    "alpha = 0.01\n",
    "epochs = 1\n",
    "batchsize = 200\n",
    "weights = []\n",
    "errors = []\n",
    "batch_number = 0\n",
    "K = 1\n",
    "\n",
    "#creating datasets\n",
    "train_ds = \\\n",
    "    tf.data.Dataset.from_tensor_slices((trX, trY)).batch(batchsize)\n",
    "\n",
    "for epoch in range(epochs):\n",
    "    for batch_x, batch_y in train_ds:\n",
    "        batch_number += 1\n",
    "        for i_sample in range(batchsize):           \n",
    "            for k in range(K):\n",
    "                v0_state = batch_x[i_sample]\n",
    "                h0_state = hidden_layer(v0_state, W, hb)\n",
    "                v1_state = reconstructed_output(h0_state, W, vb)\n",
    "                h1_state = hidden_layer(v1_state, W, hb)\n",
    "\n",
    "                delta_W = tf.matmul(tf.transpose([v0_state]), h0_state) - tf.matmul(tf.transpose([v1_state]), h1_state)\n",
    "                W = W + alpha * delta_W\n",
    "\n",
    "                vb = vb + alpha * tf.reduce_mean(v0_state - v1_state, 0)\n",
    "                hb = hb + alpha * tf.reduce_mean(h0_state - h1_state, 0) \n",
    "\n",
    "                v0_state = v1_state\n",
    "\n",
    "            if i_sample == batchsize-1:\n",
    "                err = error(batch_x[i_sample], v1_state)\n",
    "                errors.append(err)\n",
    "                weights.append(W)\n",
    "                print ( 'Epoch: %d' % epoch, \n",
    "                       \"batch #: %i \" % batch_number, \"of %i\" % int(60e3/batchsize), \n",
    "                       \"sample #: %i\" % i_sample,\n",
    "                       'reconstruction error: %f' % err)\n",
    "\n"
   ]
  },
  {
   "cell_type": "markdown",
   "metadata": {},
   "source": [
    "Let's take a look at the errors at the end of each batch:\n"
   ]
  },
  {
   "cell_type": "code",
   "execution_count": 21,
   "metadata": {},
   "outputs": [
    {
     "data": {
      "image/png": "[encoded data removed]",
      "text/plain": [
       "<Figure size 640x480 with 1 Axes>"
      ]
     },
     "metadata": {},
     "output_type": "display_data"
    }
   ],
   "source": [
    "plt.plot(errors)\n",
    "plt.xlabel(\"Batch Number\")\n",
    "plt.ylabel(\"Error\")\n",
    "plt.show()"
   ]
  },
  {
   "cell_type": "markdown",
   "metadata": {},
   "source": [
    "What is the final weight matrix $W$ after training?\n"
   ]
  },
  {
   "cell_type": "code",
   "execution_count": 22,
   "metadata": {},
   "outputs": [
    {
     "name": "stdout",
     "output_type": "stream",
     "text": [
      "[[-0.3799999  -0.3799999  -0.44999984 ... -0.13999999 -0.4999998\n",
      "  -0.27      ]\n",
      " [-0.40999988 -0.43999985 -0.33999994 ... -0.20000002 -0.5999997\n",
      "  -0.20000002]\n",
      " [-0.41999987 -0.5999997  -0.45999983 ... -0.20000002 -0.5299998\n",
      "  -0.26000002]\n",
      " ...\n",
      " [-0.3799999  -0.5199998  -0.3999999  ... -0.25000003 -0.43999985\n",
      "  -0.19000001]\n",
      " [-0.45999983 -0.43999985 -0.4799998  ... -0.21000002 -0.5299998\n",
      "  -0.28      ]\n",
      " [-0.35999992 -0.45999983 -0.35999992 ... -0.20000002 -0.5499998\n",
      "  -0.28      ]]\n"
     ]
    }
   ],
   "source": [
    "print(W.numpy()) # a weight matrix of shape (50,784)"
   ]
  },
  {
   "cell_type": "markdown",
   "metadata": {},
   "source": [
    "<a id=\"ref5\"></a>\n",
    "<h3>Learned features</h3> \n"
   ]
  },
  {
   "cell_type": "markdown",
   "metadata": {},
   "source": [
    "We can take each hidden unit and visualize the connections between that hidden unit and each element in the input vector. In our case, we have 50 hidden units. Lets visualize those.\n"
   ]
  },
  {
   "cell_type": "markdown",
   "metadata": {},
   "source": [
    "**Let's plot the current weights**:\n",
    "<b>tile_raster_images</b> helps in generating an easy to grasp image from a set of samples or weights. It transforms the <b>uw</b> (with one flattened image per row of size 784), into an array (of size $28\\times28$) in which images are reshaped and laid out like tiles on a floor.\n"
   ]
  },
  {
   "cell_type": "code",
   "execution_count": 23,
   "metadata": {},
   "outputs": [
    {
     "data": {
      "image/png": "[encoded data removed]",
      "text/plain": [
       "<Figure size 1800x1800 with 1 Axes>"
      ]
     },
     "metadata": {},
     "output_type": "display_data"
    }
   ],
   "source": [
    "tile_raster_images(X=W.numpy().T, img_shape=(28, 28), tile_shape=(5, 10), tile_spacing=(1, 1))\n",
    "import matplotlib.pyplot as plt\n",
    "from PIL import Image\n",
    "%matplotlib inline\n",
    "image = Image.fromarray(tile_raster_images(X=W.numpy().T, img_shape=(28, 28) ,tile_shape=(5, 10), tile_spacing=(1, 1)))\n",
    "### Plot image\n",
    "plt.rcParams['figure.figsize'] = (18.0, 18.0)\n",
    "imgplot = plt.imshow(image)\n",
    "imgplot.set_cmap('gray')  "
   ]
  },
  {
   "cell_type": "markdown",
   "metadata": {},
   "source": [
    "**Each tile in the above visualization corresponds to a vector of connections between a hidden unit and visible layer's units.**\n"
   ]
  },
  {
   "cell_type": "markdown",
   "metadata": {},
   "source": [
    "Let's look at one of the learned weights corresponding to one of hidden units for example. **In this particular square, the gray color represents weight = 0, and the whiter it is, the more positive the weights are (closer to 1). Conversely, the darker pixels are, the more negative the weights. The positive pixels will increase the probability of activation in hidden units (after multiplying by input/visible pixels), and negative pixels will decrease the probability of a unit hidden to be 1 (activated). So, why is this important?  So we can see that this specific square (hidden unit) can detect a feature (e.g. a \"/\" shape) and if it exists in the input.**\n"
   ]
  },
  {
   "cell_type": "code",
   "execution_count": 24,
   "metadata": {},
   "outputs": [
    {
     "data": {
      "image/png": "[encoded data removed]",
      "text/plain": [
       "<Figure size 400x400 with 1 Axes>"
      ]
     },
     "metadata": {},
     "output_type": "display_data"
    }
   ],
   "source": [
    "from PIL import Image\n",
    "image = Image.fromarray(tile_raster_images(X =W.numpy().T[10:11], img_shape=(28, 28),tile_shape=(1, 1), tile_spacing=(1, 1)))\n",
    "### Plot image\n",
    "plt.rcParams['figure.figsize'] = (4.0, 4.0)\n",
    "imgplot = plt.imshow(image)\n",
    "imgplot.set_cmap('gray')  "
   ]
  },
  {
   "cell_type": "markdown",
   "metadata": {},
   "source": [
    "**Let's look at the reconstruction of an image now. Imagine that we have a destructed image of figure 3. Lets see if our trained network can fix it:**\n",
    "\n",
    "First we plot the image:\n"
   ]
  },
  {
   "cell_type": "code",
   "execution_count": 25,
   "metadata": {},
   "outputs": [
    {
     "data": {
      "image/png": "[encoded data removed]",
      "text/plain": [
       "<PIL.JpegImagePlugin.JpegImageFile image mode=RGB size=181x181 at 0x7F602BBD8290>"
      ]
     },
     "execution_count": 25,
     "metadata": {},
     "output_type": "execute_result"
    }
   ],
   "source": [
    "img = Image.open('destructed3.jpg')\n",
    "img"
   ]
  },
  {
   "cell_type": "markdown",
   "metadata": {},
   "source": [
    "Now let's pass this image through the neural net:\n"
   ]
  },
  {
   "cell_type": "code",
   "execution_count": 26,
   "metadata": {},
   "outputs": [],
   "source": [
    "# convert the image to a 1d numpy array\n",
    "sample_case = np.array(img.convert('I').resize((28,28))).ravel().reshape((1, -1))/255.0\n",
    "\n",
    "sample_case = tf.cast(sample_case, dtype=tf.float32)"
   ]
  },
  {
   "cell_type": "markdown",
   "metadata": {},
   "source": [
    "Feed the sample case into the network and reconstruct the output:\n"
   ]
  },
  {
   "cell_type": "code",
   "execution_count": 27,
   "metadata": {},
   "outputs": [
    {
     "name": "stdout",
     "output_type": "stream",
     "text": [
      "Probability nodes in hidden layer: tf.Tensor(\n",
      "[[7.8983469e-09 9.9667466e-01 5.9648606e-05 2.5764164e-08 5.8831708e-09\n",
      "  6.8966488e-06 9.9780196e-01 1.9434063e-01 9.9999976e-01 3.1197745e-01\n",
      "  1.0934315e-06 5.6641740e-03 9.9913555e-01 9.9226004e-01 3.6463412e-11\n",
      "  2.5754047e-15 2.6432185e-13 9.8224230e-02 9.8992443e-01 8.7293285e-01\n",
      "  3.7540433e-01 2.0900546e-07 1.0000000e+00 8.2979780e-01 1.6245313e-05\n",
      "  3.3676732e-02 1.8805176e-13 1.4549372e-01 8.3976976e-09 1.7681015e-11\n",
      "  1.8157409e-06 1.0000000e+00 1.2311666e-11 1.8173644e-03 5.6257218e-06\n",
      "  9.9984241e-01 8.6619168e-14 9.9998510e-01 9.9999988e-01 5.7789865e-08\n",
      "  1.5822755e-08 3.1643729e-05 2.7977148e-07 9.9999994e-01 3.6419917e-10\n",
      "  1.0000000e+00 9.4785553e-01 7.6208673e-10 7.0854165e-03 5.8233618e-06]], shape=(1, 50), dtype=float32)\n",
      "activated nodes in hidden layer: tf.Tensor(\n",
      "[[0. 1. 0. 0. 0. 0. 1. 0. 1. 0. 0. 0. 1. 1. 0. 0. 0. 0. 1. 1. 0. 0. 1. 1.\n",
      "  0. 0. 0. 0. 0. 0. 0. 1. 0. 0. 0. 1. 0. 1. 1. 0. 0. 0. 0. 1. 0. 1. 1. 0.\n",
      "  0. 0.]], shape=(1, 50), dtype=float32)\n",
      "tf.Tensor(\n",
      "[[4.80338000e-04 4.05275059e-04 3.06330709e-04 5.30829013e-04\n",
      "  4.21807432e-04 4.66148631e-04 4.56922455e-04 3.03283479e-04\n",
      "  4.39014169e-04 2.88496405e-04 4.30325075e-04 4.61512391e-04\n",
      "  3.41951498e-04 4.08961583e-04 6.94762566e-04 3.16437538e-04\n",
      "  4.52377921e-04 3.45373031e-04 3.66722234e-04 4.26044775e-04\n",
      "  4.30324872e-04 4.56922455e-04 4.01244033e-04 3.74127703e-04\n",
      "  3.15656827e-04 3.63074505e-04 4.01243829e-04 3.63074330e-04\n",
      "  2.91395088e-04 3.52347735e-04 2.94322817e-04 3.85517109e-04\n",
      "  4.36286791e-04 3.42729705e-04 4.22254176e-04 3.10064032e-04\n",
      "  4.74928296e-04 4.15098853e-04 5.80199820e-04 4.87699755e-04\n",
      "  6.27901580e-04 7.33024615e-04 7.17311224e-04 4.99109563e-04\n",
      "  7.49671133e-04 6.80455472e-04 8.85544578e-04 5.53239370e-04\n",
      "  6.42009953e-04 6.25566987e-04 3.80472600e-04 3.06631060e-04\n",
      "  4.47879051e-04 4.30324872e-04 5.92515978e-04 4.21807432e-04\n",
      "  5.80790162e-04 3.89389810e-04 2.80698150e-04 5.59804554e-04\n",
      "  2.97012011e-04 3.78746598e-04 5.46343916e-04 3.71993287e-04\n",
      "  3.31914081e-04 3.33740754e-04 1.42315926e-04 9.17764191e-05\n",
      "  7.58073220e-05 1.27773688e-04 1.91443178e-04 2.04285927e-04\n",
      "  2.37505490e-04 5.41644840e-05 9.66938533e-05 7.19946402e-05\n",
      "  8.74001780e-05 2.72298377e-04 6.06591755e-04 3.86849279e-04\n",
      "  4.43407363e-04 5.36981446e-04 4.61512856e-04 3.55887722e-04\n",
      "  4.05274652e-04 4.21807257e-04 3.34657409e-04 5.10946149e-04\n",
      "  3.15150130e-04 4.07058455e-04 3.86576809e-04 4.31440421e-04\n",
      "  2.13924257e-04 2.36678126e-04 1.32571731e-04 1.75099762e-04\n",
      "  2.39151326e-04 4.46778024e-04 2.26448843e-04 8.56281607e-04\n",
      "  1.06367550e-03 4.44303500e-04 4.83275217e-04 4.02430014e-04\n",
      "  1.95225395e-04 2.00194161e-04 3.71979113e-04 4.66588041e-04\n",
      "  7.81924464e-04 4.07953106e-04 3.57691984e-04 5.98467188e-04\n",
      "  2.01294941e-04 6.22485881e-04 6.87907857e-04 5.78745850e-04\n",
      "  4.31388646e-04 1.16600120e-03 7.71243998e-04 7.22758938e-04\n",
      "  7.38857198e-04 1.09608087e-03 7.67908699e-04 1.89485296e-03\n",
      "  4.03267704e-03 1.14368647e-02 3.31541561e-02 5.37843779e-02\n",
      "  5.11390604e-02 6.58052936e-02 1.35881696e-02 4.73027257e-03\n",
      "  2.37229234e-03 2.37098802e-03 1.50704884e-03 2.58926442e-03\n",
      "  1.88639376e-03 1.69605343e-03 5.89782489e-04 4.15799092e-04\n",
      "  3.31835268e-04 4.52378154e-04 4.22817509e-04 7.13134126e-04\n",
      "  1.25879282e-03 1.24453334e-03 1.74413994e-03 3.20141506e-03\n",
      "  3.65636568e-03 4.67955833e-03 1.17921028e-02 2.63202041e-02\n",
      "  1.03738807e-01 4.32386220e-01 6.37938261e-01 8.03975463e-01\n",
      "  8.07998359e-01 7.24591255e-01 4.57275063e-01 2.17051014e-01\n",
      "  4.81318980e-02 2.35446393e-02 8.51343293e-03 8.20525736e-03\n",
      "  4.22273995e-03 4.42405790e-03 2.15435587e-03 2.94126483e-04\n",
      "  4.56922455e-04 5.33352431e-04 4.16451396e-04 1.50290225e-03\n",
      "  3.17085697e-03 4.56337072e-03 3.83260008e-03 7.23345531e-03\n",
      "  3.68615915e-03 1.26544479e-02 5.65144271e-02 1.49270177e-01\n",
      "  4.38422710e-01 8.51595759e-01 8.76810730e-01 8.82966638e-01\n",
      "  8.96938741e-01 9.02657449e-01 6.65997863e-01 6.50746167e-01\n",
      "  2.83006847e-01 9.64256674e-02 4.72605675e-02 1.42872659e-02\n",
      "  5.90997096e-03 5.72103029e-03 3.11629404e-03 4.84099815e-04\n",
      "  3.94444389e-04 3.98329459e-04 1.05942297e-03 2.27459776e-03\n",
      "  1.04115270e-02 1.02798669e-02 1.17307007e-02 7.92275183e-03\n",
      "  9.59243253e-03 7.40756392e-02 2.32137620e-01 5.97168148e-01\n",
      "  7.83590317e-01 9.28896427e-01 9.18944716e-01 8.58039081e-01\n",
      "  7.51235306e-01 6.23440444e-01 5.86151361e-01 7.06090510e-01\n",
      "  7.41882980e-01 4.35781896e-01 1.66499496e-01 3.38356718e-02\n",
      "  1.44448318e-02 2.78235227e-03 2.87593342e-03 3.91318346e-04\n",
      "  3.03509703e-04 5.85797010e-04 1.01505918e-03 3.90098989e-03\n",
      "  1.15439780e-02 1.90623309e-02 1.23156840e-02 1.08810347e-02\n",
      "  2.47443989e-02 8.68083015e-02 5.89129925e-01 7.33137608e-01\n",
      "  9.16549861e-01 9.23320651e-01 8.28169823e-01 6.97701991e-01\n",
      "  4.67106849e-01 2.31706738e-01 3.37712198e-01 6.34747267e-01\n",
      "  7.21873343e-01 8.17856789e-01 3.90837699e-01 1.27921700e-01\n",
      "  4.08269837e-02 5.58286021e-03 2.96975463e-03 5.81747794e-04\n",
      "  6.30267547e-04 5.09147067e-04 2.71346001e-03 4.67933202e-03\n",
      "  9.96860769e-03 1.16289100e-02 9.02267545e-03 8.10866244e-03\n",
      "  3.19229327e-02 2.31508389e-01 4.88898695e-01 8.01917136e-01\n",
      "  7.72155166e-01 5.96305370e-01 6.14037633e-01 2.93222636e-01\n",
      "  1.79289207e-01 1.93110466e-01 3.67980063e-01 6.64854705e-01\n",
      "  8.46722722e-01 8.43243062e-01 4.78657931e-01 7.57357776e-02\n",
      "  1.17561901e-02 3.61442124e-03 1.21695525e-03 4.43476863e-04\n",
      "  3.72255134e-04 6.16900157e-04 1.48407358e-03 3.64619843e-03\n",
      "  4.88003064e-03 4.65041073e-03 2.71955365e-03 5.88896917e-03\n",
      "  3.82357873e-02 2.00524122e-01 2.91147888e-01 2.80812591e-01\n",
      "  4.97472823e-01 4.50336665e-01 3.02929163e-01 1.70765668e-01\n",
      "  1.73059210e-01 3.41793507e-01 6.54732049e-01 8.40909302e-01\n",
      "  8.22503984e-01 6.27178252e-01 1.25846609e-01 2.16320492e-02\n",
      "  4.33873665e-03 1.86115666e-03 8.93457094e-04 3.46132467e-04\n",
      "  4.81394090e-04 6.59529411e-04 2.07638321e-03 2.07614014e-03\n",
      "  4.05195868e-03 1.65579189e-03 2.32256600e-03 4.84957360e-03\n",
      "  3.85694988e-02 7.59967193e-02 1.72810480e-01 1.46695793e-01\n",
      "  1.99479654e-01 4.44999546e-01 2.24409670e-01 2.21329018e-01\n",
      "  5.00457585e-01 4.73068416e-01 6.83182657e-01 7.80254424e-01\n",
      "  7.25897014e-01 1.28244609e-01 1.83838662e-02 3.99155775e-03\n",
      "  1.76066998e-03 1.86057575e-03 1.00532337e-03 4.22353885e-04\n",
      "  3.24591761e-04 4.14871203e-04 1.86319347e-03 1.41722790e-03\n",
      "  1.38817297e-03 9.38238460e-04 1.68376311e-03 7.19961058e-03\n",
      "  4.57446463e-02 7.51582086e-02 4.81816791e-02 1.39930531e-01\n",
      "  3.30929130e-01 6.81679904e-01 7.02134848e-01 6.04382396e-01\n",
      "  4.96335715e-01 6.47188306e-01 7.13653803e-01 7.02096641e-01\n",
      "  2.27288052e-01 8.09746534e-02 5.27565787e-03 8.44055088e-04\n",
      "  6.06623013e-04 7.57584581e-04 7.09176878e-04 5.85681992e-04\n",
      "  6.06020214e-04 3.92532093e-04 9.81774530e-04 9.30469891e-04\n",
      "  1.52860826e-03 1.04484719e-03 2.94676516e-03 1.08913034e-02\n",
      "  2.20200717e-02 1.72583416e-01 2.57894874e-01 3.12730819e-01\n",
      "  7.37121046e-01 9.25990939e-01 9.42244112e-01 8.58965933e-01\n",
      "  7.89572358e-01 6.61942124e-01 5.84002018e-01 5.40198505e-01\n",
      "  8.22450146e-02 1.37821427e-02 2.78223050e-03 6.40863145e-04\n",
      "  2.62560818e-04 6.08712668e-04 5.72833407e-04 5.10465645e-04\n",
      "  4.23149148e-04 5.97225793e-04 7.32937653e-04 1.03351660e-03\n",
      "  1.48338696e-03 9.88342217e-04 2.41349149e-03 9.42797679e-03\n",
      "  4.26869020e-02 2.14184180e-01 3.67482394e-01 7.59142041e-01\n",
      "  9.14542973e-01 9.71042335e-01 9.46102023e-01 8.51116061e-01\n",
      "  8.96744430e-01 8.00185561e-01 5.83582938e-01 1.47901416e-01\n",
      "  5.76014332e-02 1.16773592e-02 1.93474919e-03 5.88313502e-04\n",
      "  1.66392056e-04 5.27802040e-04 4.12164431e-04 5.07016201e-04\n",
      "  4.80413990e-04 2.76948645e-04 5.70659351e-04 2.04829755e-03\n",
      "  2.32846593e-03 1.11890107e-03 4.10078978e-03 4.65647783e-03\n",
      "  1.06821461e-02 8.99093300e-02 2.30867267e-01 4.99912500e-01\n",
      "  7.64868498e-01 6.67284131e-01 5.60057759e-01 5.05785167e-01\n",
      "  4.94903982e-01 7.07369030e-01 4.46326792e-01 9.42760482e-02\n",
      "  2.28194706e-02 4.39407770e-03 2.70827883e-03 4.17275587e-04\n",
      "  1.63482473e-04 1.52657376e-04 7.04634585e-04 4.14140028e-04\n",
      "  4.41516982e-04 4.57890827e-04 9.04125860e-04 3.21315322e-03\n",
      "  6.35398412e-03 3.33590992e-03 4.67214407e-03 3.09674558e-03\n",
      "  7.86553603e-03 1.61708947e-02 3.86488251e-02 1.28611714e-01\n",
      "  1.88171133e-01 1.36815578e-01 1.54309750e-01 2.63434500e-01\n",
      "  5.84251821e-01 4.91837233e-01 2.39069611e-01 3.05743553e-02\n",
      "  2.99194288e-02 1.10487984e-02 3.57013918e-03 4.13512200e-04\n",
      "  1.87067184e-04 1.47653482e-04 8.35948973e-04 4.06054256e-04\n",
      "  3.81682534e-04 4.28624597e-04 1.43296225e-03 5.34901163e-03\n",
      "  3.21285352e-02 1.11010540e-02 8.91015399e-03 5.36786113e-03\n",
      "  2.98334518e-03 6.07906049e-03 1.16888108e-02 1.42830145e-02\n",
      "  9.17059649e-03 1.21081471e-02 4.99737151e-02 2.61954784e-01\n",
      "  5.02361774e-01 3.94158185e-01 1.90624908e-01 7.72036016e-02\n",
      "  5.28716594e-02 2.07192823e-02 3.60082369e-03 7.51107757e-04\n",
      "  1.82409407e-04 1.66632613e-04 5.38858760e-04 3.74039810e-04\n",
      "  5.23760973e-04 3.17618105e-04 1.80018216e-03 1.96401384e-02\n",
      "  1.19558737e-01 9.78065059e-02 4.21869792e-02 8.60561617e-03\n",
      "  5.76579804e-03 6.44616969e-03 4.74072946e-03 4.86240583e-03\n",
      "  1.63003895e-03 4.43391455e-03 6.85748681e-02 3.98962140e-01\n",
      "  6.32868111e-01 3.82735133e-01 2.21492663e-01 1.70867771e-01\n",
      "  7.92602971e-02 3.83511297e-02 3.50195705e-03 9.31148825e-04\n",
      "  2.27357465e-04 2.33012965e-04 4.84308868e-04 3.79236531e-04\n",
      "  3.33596341e-04 5.37634245e-04 6.50601089e-03 1.08990930e-01\n",
      "  5.32496214e-01 3.57876301e-01 3.91516089e-01 4.60582860e-02\n",
      "  1.71795823e-02 8.54698103e-03 3.18739330e-03 1.78847625e-03\n",
      "  2.79337913e-03 9.69939958e-03 1.88933089e-01 4.91291970e-01\n",
      "  7.09975660e-01 6.18727624e-01 6.76872611e-01 1.67627409e-01\n",
      "  3.08602694e-02 7.85172451e-03 3.66367213e-03 5.62785775e-04\n",
      "  3.75601143e-04 5.15898690e-04 8.85510352e-04 3.82986647e-04\n",
      "  4.61512856e-04 4.31507273e-04 5.88135608e-03 2.49918431e-01\n",
      "  7.54790306e-01 8.06930661e-01 8.04573596e-01 3.78342450e-01\n",
      "  7.52606243e-02 2.49080211e-02 7.57543463e-03 8.60658381e-03\n",
      "  3.69033404e-02 6.33628890e-02 2.26021871e-01 6.30314887e-01\n",
      "  7.85310328e-01 7.01211274e-01 4.87307310e-01 1.06246352e-01\n",
      "  5.51009886e-02 1.03130350e-02 2.67545530e-03 1.18248037e-03\n",
      "  6.17703248e-04 5.30082907e-04 6.33859891e-04 4.15766553e-04\n",
      "  3.42380605e-04 4.90229693e-04 3.77947418e-03 2.23299354e-01\n",
      "  8.17745984e-01 9.71699417e-01 9.52017725e-01 8.48387778e-01\n",
      "  3.33980680e-01 6.82579204e-02 5.82507476e-02 2.88137738e-02\n",
      "  2.34747142e-01 3.62077117e-01 6.09694481e-01 8.21792781e-01\n",
      "  6.81166232e-01 6.85454547e-01 2.74899602e-01 1.05150677e-01\n",
      "  4.03215177e-02 7.80058699e-03 2.15701154e-03 1.33251620e-03\n",
      "  8.61926645e-04 1.11993880e-03 7.31446256e-04 4.82149044e-04\n",
      "  3.38855229e-04 3.68928362e-04 3.17904423e-03 1.00624226e-01\n",
      "  7.23720312e-01 9.45238292e-01 9.71691191e-01 9.80549335e-01\n",
      "  8.46105158e-01 4.26035017e-01 2.56067932e-01 3.25379729e-01\n",
      "  4.20584559e-01 6.49094880e-01 6.15015507e-01 6.28411174e-01\n",
      "  5.07018924e-01 3.50390315e-01 1.09857604e-01 7.74750262e-02\n",
      "  4.48664948e-02 6.50974410e-03 2.46563158e-03 1.89720455e-03\n",
      "  2.01585842e-03 9.23496496e-04 4.04386257e-04 3.61412909e-04\n",
      "  4.01244033e-04 5.10025711e-04 9.42133833e-04 2.64534913e-02\n",
      "  2.11558536e-01 8.34857106e-01 9.44390416e-01 9.56990600e-01\n",
      "  9.28806663e-01 7.37246394e-01 7.00374246e-01 6.22332096e-01\n",
      "  4.74352360e-01 3.87688011e-01 2.59569854e-01 2.90264815e-01\n",
      "  2.77127624e-01 1.18022814e-01 8.33804607e-02 6.46833852e-02\n",
      "  2.48566177e-02 3.27494182e-03 2.19581719e-03 9.48060770e-04\n",
      "  1.29687798e-03 6.80481084e-04 4.58735361e-04 2.68997595e-04\n",
      "  4.21807432e-04 3.74127703e-04 5.02919022e-04 1.85127091e-03\n",
      "  2.16535497e-02 2.05737621e-01 6.19909763e-01 7.19319701e-01\n",
      "  6.39157593e-01 4.42838103e-01 2.07923859e-01 1.53048426e-01\n",
      "  1.09670222e-01 8.87522623e-02 4.98125926e-02 5.69747835e-02\n",
      "  6.53614923e-02 6.83232918e-02 1.87581386e-02 7.07034301e-03\n",
      "  7.64534622e-03 2.22251564e-03 6.32495503e-04 1.15102727e-03\n",
      "  8.64461123e-04 6.44252752e-04 5.84925525e-04 2.31537138e-04\n",
      "  4.94959299e-04 4.21807432e-04 5.16786822e-04 7.46796140e-04\n",
      "  9.40105936e-04 6.85118418e-03 1.32505000e-02 5.49298413e-02\n",
      "  3.47275026e-02 7.94498622e-03 6.04058988e-03 8.17448832e-03\n",
      "  1.18303997e-02 7.38018984e-03 7.24957744e-03 1.06879836e-02\n",
      "  1.51998308e-02 6.01263996e-03 4.35928488e-03 2.34317803e-03\n",
      "  6.60153630e-04 1.06000656e-03 7.39662151e-04 6.68219815e-04\n",
      "  3.97970405e-04 3.58421938e-04 3.39427323e-04 3.74127500e-04\n",
      "  4.47878847e-04 4.47878614e-04 4.39014373e-04 3.54606513e-04\n",
      "  5.26952499e-04 1.80448184e-03 1.43155956e-03 1.50679133e-03\n",
      "  1.15278736e-03 1.13274332e-03 1.45411270e-03 3.64665058e-03\n",
      "  1.88832963e-03 1.01419166e-03 6.70437992e-04 1.67377933e-03\n",
      "  1.81015593e-03 1.11915171e-03 6.17723796e-04 1.05888816e-03\n",
      "  1.34103675e-03 6.15379540e-04 5.56981598e-04 4.47317783e-04\n",
      "  2.28973411e-04 4.35006019e-04 3.31835588e-04 4.43424302e-04\n",
      "  3.93301772e-04 3.97253054e-04 3.09408206e-04 4.30324872e-04\n",
      "  4.66167054e-04 3.32499971e-04 7.50846171e-04 8.65376380e-04\n",
      "  6.13380980e-04 1.36231678e-03 3.00161913e-03 1.95769430e-03\n",
      "  1.88668282e-03 1.31807721e-03 1.89719361e-03 1.10093085e-03\n",
      "  1.60138507e-03 1.22168392e-03 6.33314950e-04 5.42268972e-04\n",
      "  3.24172142e-04 3.65502201e-04 3.08427465e-04 4.69136605e-04\n",
      "  3.77886259e-04 3.22031323e-04 3.18828301e-04 3.55887722e-04]], shape=(1, 784), dtype=float32)\n"
     ]
    }
   ],
   "source": [
    "hh0_p = tf.nn.sigmoid(tf.matmul(sample_case, W) + hb)\n",
    "hh0_s = tf.round(hh0_p)\n",
    "\n",
    "print(\"Probability nodes in hidden layer:\" ,hh0_p)\n",
    "print(\"activated nodes in hidden layer:\" ,hh0_s)\n",
    "\n",
    "# reconstruct\n",
    "vv1_p = tf.nn.sigmoid(tf.matmul(hh0_s, tf.transpose(W)) + vb)\n",
    "\n",
    "print(vv1_p)\n",
    "#rec_prob = sess.run(vv1_p, feed_dict={ hh0_s: hh0_s_val, W: prv_w, vb: prv_vb})"
   ]
  },
  {
   "cell_type": "markdown",
   "metadata": {},
   "source": [
    "Here we plot the reconstructed image:\n"
   ]
  },
  {
   "cell_type": "code",
   "execution_count": 28,
   "metadata": {},
   "outputs": [
    {
     "data": {
      "image/png": "[encoded data removed]",
      "text/plain": [
       "<Figure size 400x400 with 1 Axes>"
      ]
     },
     "metadata": {},
     "output_type": "display_data"
    }
   ],
   "source": [
    "img = Image.fromarray(tile_raster_images(X=vv1_p.numpy(), img_shape=(28, 28),tile_shape=(1, 1), tile_spacing=(1, 1)))\n",
    "plt.rcParams['figure.figsize'] = (4.0, 4.0)\n",
    "imgplot = plt.imshow(img)\n",
    "imgplot.set_cmap('gray') "
   ]
  },
  {
   "cell_type": "markdown",
   "metadata": {},
   "source": [
    "# Authors' rights\n",
    "\n",
    "Machine Learning with Python course by IBM on Coursera: https://www.coursera.org/learn/machine-learning-with-python/\n",
    "\n",
    "Completed and modified by Mathilde Marie Duville as part of the IBM Artificial Intelligence Engineering Professional Certificate and corresponding IBM badges. Please, follow the subsequent links to confirm the accreditation:\n",
    "\n",
    "https://www.coursera.org/account/accomplishments/professional-cert/KSLW773DAATP?utm_source=link&utm_medium=certificate&utm_content=cert_image&utm_campaign=sharing_cta&utm_product=prof\n",
    "\n",
    "https://www.credly.com/users/mathilde-marie-duville/badges\n",
    "\n",
    "-------------------------------------------------------------------------------------------------------------------------------------------\n",
    "\n",
    "Author: <a href = \"https://ca.linkedin.com/in/saeedaghabozorgi\">Saeed Aghabozorgi</a>\n",
    "\n",
    "Updated to TF 2.X by  <a href=\"https://ca.linkedin.com/in/nilmeier?utm_medium=Exinfluencer&utm_source=Exinfluencer&utm_content=000026UJ&utm_term=10006555&utm_id=NA-SkillsNetwork-Channel-SkillsNetworkCoursesIBMDeveloperSkillsNetworkDL0120ENSkillsNetwork954-2023-01-01\"> Jerome Nilmeier</a><br />"
   ]
  },
  {
   "cell_type": "markdown",
   "metadata": {},
   "source": [
    "### References:\n",
    "https://en.wikipedia.org/wiki/Restricted_Boltzmann_machine  \n",
    "http://deeplearning.net/tutorial/rbm.html  \n",
    "http://www.cs.utoronto.ca/~hinton/absps/netflixICML.pdf<br>\n",
    "http://imonad.com/rbm/restricted-boltzmann-machine/  \n"
   ]
  },
  {
   "cell_type": "markdown",
   "metadata": {},
   "source": [
    "<hr>\n",
    "\n",
    "Copyright &copy; 2018 [Cognitive Class](https://cocl.us/DX0108EN_CC). This notebook and its source code are released under the terms of the [MIT License](https://bigdatauniversity.com/mit-license/?utm_medium=Exinfluencer&utm_source=Exinfluencer&utm_content=000026UJ&utm_term=10006555&utm_id=NA-SkillsNetwork-Channel-SkillsNetworkCoursesIBMDeveloperSkillsNetworkDL0120ENSkillsNetwork954-2023-01-01).\n"
   ]
  }
 ],
 "metadata": {
  "kernelspec": {
   "display_name": "Python",
   "language": "python",
   "name": "conda-env-python-py"
  },
  "language_info": {
   "codemirror_mode": {
    "name": "ipython",
    "version": 3
   },
   "file_extension": ".py",
   "mimetype": "text/x-python",
   "name": "python",
   "nbconvert_exporter": "python",
   "pygments_lexer": "ipython3",
   "version": "3.7.12"
  }
 },
 "nbformat": 4,
 "nbformat_minor": 4
}
