{
 "cells": [
  {
   "cell_type": "markdown",
   "metadata": {},
   "source": [
    "<h1>Batch Normalization on deep neural networks </h1>\n"
   ]
  },
  {
   "cell_type": "markdown",
   "metadata": {},
   "source": [
    "\n",
    "<h3>Objective for this Notebook<h3>    \n",
    "<h5> 1. Define Several Neural Networks, Criterion function, Optimizer.</h5>\n",
    "<h5> 2. Train Neural Network using Batch Normalization and no Batch Normalization </h5>   \n",
    "\n"
   ]
  },
  {
   "cell_type": "markdown",
   "metadata": {},
   "source": [
    "<h2>Table of Contents</h2>\n",
    "Here, a Neural Network will be built using Batch Normalization and compared to a Neural Network that does not use Batch Normalization. We will use the MNIST dataset to test the network. \n",
    "\n",
    "<ul>\n",
    "<li><a href=\"#Train_Func\">Neural Network Module and Training Function</a></li>\n",
    "<li><a href=\"#Makeup_Data\">Load Data </a></li>\n",
    "<li><a href=\"#NN\">Define Several Neural Networks, Criterion function, Optimizer</a></li>\n",
    "<li><a href=\"#Train\">Train Neural Network using Batch Normalization and no Batch Normalization</a></li>\n",
    "<li><a href=\"#Result\">Analyze Results</a></li>\n",
    "</ul>"
   ]
  },
  {
   "cell_type": "markdown",
   "metadata": {},
   "source": [
    "We have the outputs for each of the neurons and what we're going to do, is **calculate the mean and standard deviation or variance** for a particular **mini-batch.** We're going to n**ormalize the output, then we're going to scale and shift them, and these are actually parameters, which we're going to learn via training. It'll take these outputs and pass them to the activation function.**"
   ]
  },
  {
   "cell_type": "markdown",
   "metadata": {},
   "source": [
    "<img src=\"https://jupyterlab-0-labs-prod-jupyterlab-us-east-0.labs.cognitiveclass.ai/user/mathildeduvi/files/labs/batch-norm01.png?_xsrf=MnwxOjB8MTA6MTcxNzQzNTEwOHw1Ol94c3JmfDEzMjpZbVJsTkdJM01HWTRORGsxTkRabE9EbGtOVGxpT0RZM04ySm1aVGMzTURnNk4ySmtNV1V4TW1Ga09XTXlabVF4WkRjeVl6azJNalprWlRNd1kyVTFZVEExWWpFNVpHRTBOelpsTVRaaU1qRTVObVprTVRVMlltTmtNalJrWlRaa1pnPT18ZjI0MWI2YTA1MWI3Y2RhNzg3ZjBmMjcwZjUxYTBjYWUxN2EwMWJjODU0NDc0Yjk1ZDU2ZWRiMjg4ODZiYmE0Ng\" width=\"800,\" align=\"center\" alt=\"Batch-normalization01\">"
   ]
  },
  {
   "cell_type": "markdown",
   "metadata": {},
   "source": [
    "So we have our first mini-batch, which we'll denote by the matrix or Tensor X1, and then we'll have the output for the activations, which will start in the following tensor or matrix Z. So we'll have the output for the first neuron, second neuron and third neuron. The first sample will correspond to the first row of the matrix of Tensor Z and we'll use the same convention for each of the samples. We'll just use the index m to represent the actual sample. \n",
    "\n",
    "**So what we're going to do, is calculate the mean and standard deviation for all the samples for each neuron, and then we'll normalize the output for each neuron. Normalization will be don by subtracting the mean and dividing it by the standard deviation.** In this is one will add a small little value epsilon, in case the standard deviation is zero. Epsilon=0.0001.\n",
    "\n",
    "Then we'll apply the **Scaling ship parameters** to each of the neurons and again these parameters are learned via training and this gives a model some flexibility.\n",
    "\n",
    "Then will repeat the process for the second layer. We'll calculate the mean and standard deviation, we'll normalize the values, apply a second scale and shift parameter, and then we'll pass the activation functions. \n",
    "\n",
    "Then we repeat the process for the next batch. So we did for X1, so now we'll have the second batch, we'll denote by the matrix or Tensor X2. We'll calculate a new mean and standard deviation and normalize it accordingly,and repeat the whole process again. And we'll do for the second layer as well. "
   ]
  },
  {
   "cell_type": "markdown",
   "metadata": {},
   "source": [
    "**For prediction, we use the population mean and population standard deviation.**"
   ]
  },
  {
   "cell_type": "markdown",
   "metadata": {
    "tags": []
   },
   "source": [
    "<img src=\"https://jupyterlab-0-labs-prod-jupyterlab-us-east-0.labs.cognitiveclass.ai/user/mathildeduvi/files/labs/batch-norm02.png?_xsrf=MnwxOjB8MTA6MTcxNzQzNTEwOHw1Ol94c3JmfDEzMjpZbVJsTkdJM01HWTRORGsxTkRabE9EbGtOVGxpT0RZM04ySm1aVGMzTURnNk4ySmtNV1V4TW1Ga09XTXlabVF4WkRjeVl6azJNalprWlRNd1kyVTFZVEExWWpFNVpHRTBOelpsTVRaaU1qRTVObVprTVRVMlltTmtNalJrWlRaa1pnPT18ZjI0MWI2YTA1MWI3Y2RhNzg3ZjBmMjcwZjUxYTBjYWUxN2EwMWJjODU0NDc0Yjk1ZDU2ZWRiMjg4ODZiYmE0Ng\" width=\"700,\" align=\"center\" alt=\"Batch-normalization02\">"
   ]
  },
  {
   "cell_type": "markdown",
   "metadata": {},
   "source": [
    "The procedure is pretty similar. We take our actual activation functions and we apply the same procedure. And as you can see, the mean and variance in this case, don't have the little batch term."
   ]
  },
  {
   "cell_type": "markdown",
   "metadata": {},
   "source": [
    "<img src=\"https://jupyterlab-0-labs-prod-jupyterlab-us-east-0.labs.cognitiveclass.ai/user/mathildeduvi/files/labs/batch-norm03.png?_xsrf=MnwxOjB8MTA6MTcxNzQzNTEwOHw1Ol94c3JmfDEzMjpZbVJsTkdJM01HWTRORGsxTkRabE9EbGtOVGxpT0RZM04ySm1aVGMzTURnNk4ySmtNV1V4TW1Ga09XTXlabVF4WkRjeVl6azJNalprWlRNd1kyVTFZVEExWWpFNVpHRTBOelpsTVRaaU1qRTVObVprTVRVMlltTmtNalJrWlRaa1pnPT18ZjI0MWI2YTA1MWI3Y2RhNzg3ZjBmMjcwZjUxYTBjYWUxN2EwMWJjODU0NDc0Yjk1ZDU2ZWRiMjg4ODZiYmE0Ng\" width=\"800,\" align=\"center\" alt=\"Batch-normalization03\">"
   ]
  },
  {
   "cell_type": "markdown",
   "metadata": {},
   "source": [
    "We do for the second layer pretty much the same process and of course the parameters for scaling and shift are obtained via training. "
   ]
  },
  {
   "cell_type": "markdown",
   "metadata": {},
   "source": [
    "**Let's discuss why batch normalization works.** \n",
    "\n",
    "So here we have an equation, and we have Z1 and Z2. In the left example (with batch normalization), the results are constrained from one whereas and in the right example (without batch normalization), variable z is constrained from 0.1-10. \n",
    "\n",
    "So if you look at the possible values for the left equation, you can see that our parameters take on relatively equal values.\n",
    "If you look at the right equation, we can see the parameters have all different values they can take. "
   ]
  },
  {
   "cell_type": "markdown",
   "metadata": {},
   "source": [
    "<img src=\"https://jupyterlab-0-labs-prod-jupyterlab-us-east-0.labs.cognitiveclass.ai/user/mathildeduvi/files/labs/batch-norm04.png?_xsrf=MnwxOjB8MTA6MTcxNzQzNTEwOHw1Ol94c3JmfDEzMjpZbVJsTkdJM01HWTRORGsxTkRabE9EbGtOVGxpT0RZM04ySm1aVGMzTURnNk4ySmtNV1V4TW1Ga09XTXlabVF4WkRjeVl6azJNalprWlRNd1kyVTFZVEExWWpFNVpHRTBOelpsTVRaaU1qRTVObVprTVRVMlltTmtNalJrWlRaa1pnPT18ZjI0MWI2YTA1MWI3Y2RhNzg3ZjBmMjcwZjUxYTBjYWUxN2EwMWJjODU0NDc0Yjk1ZDU2ZWRiMjg4ODZiYmE0Ng\" width=\"500,\" align=\"center\" alt=\"Batch-normalization04\">"
   ]
  },
  {
   "cell_type": "markdown",
   "metadata": {},
   "source": [
    "So this expresses itself in the contours of loss function. \n",
    "\n",
    "We use batch normalization (left). In this case, we can see the contours are relatively round, so we perform gradient descent. The steps are in the relatively same direction and it converges. \n",
    "\n",
    "In the other case (right), we wouldn't use batch normalization, and we'll perform gradient descent. The gradients are pointing in different directions. So it will take us longer to converge them there."
   ]
  },
  {
   "cell_type": "markdown",
   "metadata": {
    "tags": []
   },
   "source": [
    "<img src=\"https://jupyterlab-0-labs-prod-jupyterlab-us-east-0.labs.cognitiveclass.ai/user/mathildeduvi/files/labs/batch-norm05.png?_xsrf=MnwxOjB8MTA6MTcxNzQzNTEwOHw1Ol94c3JmfDEzMjpZbVJsTkdJM01HWTRORGsxTkRabE9EbGtOVGxpT0RZM04ySm1aVGMzTURnNk4ySmtNV1V4TW1Ga09XTXlabVF4WkRjeVl6azJNalprWlRNd1kyVTFZVEExWWpFNVpHRTBOelpsTVRaaU1qRTVObVprTVRVMlltTmtNalJrWlRaa1pnPT18ZjI0MWI2YTA1MWI3Y2RhNzg3ZjBmMjcwZjUxYTBjYWUxN2EwMWJjODU0NDc0Yjk1ZDU2ZWRiMjg4ODZiYmE0Ng\" width=\"500,\" align=\"center\" alt=\"Batch-normalization05\">"
   ]
  },
  {
   "cell_type": "markdown",
   "metadata": {},
   "source": [
    "**We also have the vanishing gradient problem**. Please, see the code and html document *\"NeuralNetworks-InitializationWeights-Pytorch\"* for an explanation.\n",
    "\n",
    "Let's say we have this sigmoid function: "
   ]
  },
  {
   "cell_type": "markdown",
   "metadata": {},
   "source": [
    "<img src=\"https://jupyterlab-0-labs-prod-jupyterlab-us-east-0.labs.cognitiveclass.ai/user/mathildeduvi/files/labs/batch-norm06.png?_xsrf=MnwxOjB8MTA6MTcxNzQzNTEwOHw1Ol94c3JmfDEzMjpZbVJsTkdJM01HWTRORGsxTkRabE9EbGtOVGxpT0RZM04ySm1aVGMzTURnNk4ySmtNV1V4TW1Ga09XTXlabVF4WkRjeVl6azJNalprWlRNd1kyVTFZVEExWWpFNVpHRTBOelpsTVRaaU1qRTVObVprTVRVMlltTmtNalJrWlRaa1pnPT18ZjI0MWI2YTA1MWI3Y2RhNzg3ZjBmMjcwZjUxYTBjYWUxN2EwMWJjODU0NDc0Yjk1ZDU2ZWRiMjg4ODZiYmE0Ng\" width=\"500,\" align=\"center\" alt=\"Batch-normalization06\">"
   ]
  },
  {
   "cell_type": "markdown",
   "metadata": {},
   "source": [
    "In case of having non-normalized inputs, their derivative values will be close to zero. \n",
    "\n",
    "<img src=\"https://jupyterlab-0-labs-prod-jupyterlab-us-east-0.labs.cognitiveclass.ai/user/mathildeduvi/files/labs/batch-norm07.png?_xsrf=MnwxOjB8MTA6MTcxNzQzNTEwOHw1Ol94c3JmfDEzMjpZbVJsTkdJM01HWTRORGsxTkRabE9EbGtOVGxpT0RZM04ySm1aVGMzTURnNk4ySmtNV1V4TW1Ga09XTXlabVF4WkRjeVl6azJNalprWlRNd1kyVTFZVEExWWpFNVpHRTBOelpsTVRaaU1qRTVObVprTVRVMlltTmtNalJrWlRaa1pnPT18ZjI0MWI2YTA1MWI3Y2RhNzg3ZjBmMjcwZjUxYTBjYWUxN2EwMWJjODU0NDc0Yjk1ZDU2ZWRiMjg4ODZiYmE0Ng\" width=\"500,\" align=\"center\" alt=\"Batch-normalization07\">"
   ]
  },
  {
   "cell_type": "markdown",
   "metadata": {},
   "source": [
    "On the other hand, normalized data would create larger values: \n",
    "\n",
    "<img src=\"https://jupyterlab-0-labs-prod-jupyterlab-us-east-0.labs.cognitiveclass.ai/user/mathildeduvi/files/labs/batch-norm08.png?_xsrf=MnwxOjB8MTA6MTcxNzQzNTEwOHw1Ol94c3JmfDEzMjpZbVJsTkdJM01HWTRORGsxTkRabE9EbGtOVGxpT0RZM04ySm1aVGMzTURnNk4ySmtNV1V4TW1Ga09XTXlabVF4WkRjeVl6azJNalprWlRNd1kyVTFZVEExWWpFNVpHRTBOelpsTVRaaU1qRTVObVprTVRVMlltTmtNalJrWlRaa1pnPT18ZjI0MWI2YTA1MWI3Y2RhNzg3ZjBmMjcwZjUxYTBjYWUxN2EwMWJjODU0NDc0Yjk1ZDU2ZWRiMjg4ODZiYmE0Ng\" width=\"500,\" align=\"center\" alt=\"Batch-normalization08\">"
   ]
  },
  {
   "cell_type": "markdown",
   "metadata": {},
   "source": [
    "Overall, batch normalization's general advantages are: \n",
    "\n",
    "- **Dropout is not necessary**\n",
    "- **The learning rate can be increased**"
   ]
  },
  {
   "cell_type": "markdown",
   "metadata": {},
   "source": [
    "<h2>Preparation</h2>\n"
   ]
  },
  {
   "cell_type": "code",
   "execution_count": 1,
   "metadata": {},
   "outputs": [
    {
     "data": {
      "text/plain": [
       "<torch._C.Generator at 0x7fa4d8cc5d50>"
      ]
     },
     "execution_count": 1,
     "metadata": {},
     "output_type": "execute_result"
    }
   ],
   "source": [
    "# Libraries\n",
    "\n",
    "# Using the following line code to install the torchvision library\n",
    "# !mamba install -y torchvision\n",
    "\n",
    "import torch \n",
    "import torch.nn as nn\n",
    "import torchvision.transforms as transforms\n",
    "import torchvision.datasets as dsets\n",
    "import torch.nn.functional as F\n",
    "import matplotlib.pylab as plt\n",
    "import numpy as np\n",
    "torch.manual_seed(0)"
   ]
  },
  {
   "cell_type": "markdown",
   "metadata": {},
   "source": [
    "<h2 id=\"Train_Func\">Neural Network Module and Training Function</h2> \n"
   ]
  },
  {
   "cell_type": "markdown",
   "metadata": {},
   "source": [
    "Define the neural network module or class \n"
   ]
  },
  {
   "cell_type": "markdown",
   "metadata": {},
   "source": [
    " Neural Network Module with two hidden layers using Batch Normalization\n"
   ]
  },
  {
   "cell_type": "code",
   "execution_count": 2,
   "metadata": {},
   "outputs": [],
   "source": [
    "# Define the Neural Network Model using Batch Normalization\n",
    "\n",
    "class NetBatchNorm(nn.Module):\n",
    "    \n",
    "    # Constructor\n",
    "    def __init__(self, in_size, n_hidden1, n_hidden2, out_size):\n",
    "        super(NetBatchNorm, self).__init__()\n",
    "        self.linear1 = nn.Linear(in_size, n_hidden1)\n",
    "        self.linear2 = nn.Linear(n_hidden1, n_hidden2)\n",
    "        self.linear3 = nn.Linear(n_hidden2, out_size)\n",
    "        self.bn1 = nn.BatchNorm1d(n_hidden1)\n",
    "        self.bn2 = nn.BatchNorm1d(n_hidden2)\n",
    "        \n",
    "    # Prediction\n",
    "    def forward(self, x):\n",
    "        x = self.bn1(torch.sigmoid(self.linear1(x)))\n",
    "        x = self.bn2(torch.sigmoid(self.linear2(x)))\n",
    "        x = self.linear3(x)\n",
    "        return x\n",
    "    \n",
    "    # Activations, to analyze results \n",
    "    def activation(self, x):\n",
    "        out = []\n",
    "        z1 = self.bn1(self.linear1(x))\n",
    "        out.append(z1.detach().numpy().reshape(-1))\n",
    "        a1 = torch.sigmoid(z1)\n",
    "        out.append(a1.detach().numpy().reshape(-1).reshape(-1))\n",
    "        z2 = self.bn2(self.linear2(a1))\n",
    "        out.append(z2.detach().numpy().reshape(-1))\n",
    "        a2 = torch.sigmoid(z2)\n",
    "        out.append(a2.detach().numpy().reshape(-1))\n",
    "        return out"
   ]
  },
  {
   "cell_type": "markdown",
   "metadata": {},
   "source": [
    "Neural Network Module with two hidden layers with out Batch Normalization\n"
   ]
  },
  {
   "cell_type": "code",
   "execution_count": 3,
   "metadata": {},
   "outputs": [],
   "source": [
    "# Class Net for Neural Network Model\n",
    "\n",
    "class Net(nn.Module):\n",
    "    \n",
    "    # Constructor\n",
    "    def __init__(self, in_size, n_hidden1, n_hidden2, out_size):\n",
    "\n",
    "        super(Net, self).__init__()\n",
    "        self.linear1 = nn.Linear(in_size, n_hidden1)\n",
    "        self.linear2 = nn.Linear(n_hidden1, n_hidden2)\n",
    "        self.linear3 = nn.Linear(n_hidden2, out_size)\n",
    "    \n",
    "    # Prediction\n",
    "    def forward(self, x):\n",
    "        x = torch.sigmoid(self.linear1(x))\n",
    "        x = torch.sigmoid(self.linear2(x))\n",
    "        x = self.linear3(x)\n",
    "        return x\n",
    "    \n",
    "    # Activations, to analyze results \n",
    "    def activation(self, x):\n",
    "        out = []\n",
    "        z1 = self.linear1(x)\n",
    "        out.append(z1.detach().numpy().reshape(-1))\n",
    "        a1 = torch.sigmoid(z1)\n",
    "        out.append(a1.detach().numpy().reshape(-1).reshape(-1))\n",
    "        z2 = self.linear2(a1)\n",
    "        out.append(z2.detach().numpy().reshape(-1))\n",
    "        a2 = torch.sigmoid(z2)\n",
    "        out.append(a2.detach().numpy().reshape(-1))\n",
    "        return out \n"
   ]
  },
  {
   "cell_type": "markdown",
   "metadata": {},
   "source": [
    "Define a function to train the model. In this case the function returns a Python dictionary to store the training loss and accuracy on the validation data \n"
   ]
  },
  {
   "cell_type": "code",
   "execution_count": 4,
   "metadata": {},
   "outputs": [],
   "source": [
    "# Define the function to train model\n",
    "\n",
    "def train(model, criterion, train_loader, validation_loader, optimizer, epochs=100):\n",
    "    i = 0\n",
    "    useful_stuff = {'training_loss':[], 'validation_accuracy':[]}  \n",
    "\n",
    "    for epoch in range(epochs):\n",
    "        for i, (x, y) in enumerate(train_loader):\n",
    "            model.train()\n",
    "            optimizer.zero_grad()\n",
    "            z = model(x.view(-1, 28 * 28))\n",
    "            loss = criterion(z, y)\n",
    "            loss.backward()\n",
    "            optimizer.step()\n",
    "            useful_stuff['training_loss'].append(loss.data.item())\n",
    "            \n",
    "        correct = 0\n",
    "        for x, y in validation_loader:\n",
    "            model.eval()\n",
    "            yhat = model(x.view(-1, 28 * 28))\n",
    "            _, label = torch.max(yhat, 1)\n",
    "            correct += (label == y).sum().item()\n",
    "            \n",
    "        accuracy = 100 * (correct / len(validation_dataset))\n",
    "        useful_stuff['validation_accuracy'].append(accuracy)\n",
    "    \n",
    "    return useful_stuff"
   ]
  },
  {
   "cell_type": "markdown",
   "metadata": {},
   "source": [
    "<h2 id=\"Makeup_Data\">Make Some Data</h2> \n"
   ]
  },
  {
   "cell_type": "markdown",
   "metadata": {},
   "source": [
    "Load the training dataset by setting the parameters <code>train </code> to <code>True</code> and convert it to a tensor  by placing a transform object int the argument <code>transform</code>\n"
   ]
  },
  {
   "cell_type": "code",
   "execution_count": 5,
   "metadata": {},
   "outputs": [],
   "source": [
    "# load the train dataset\n",
    "\n",
    "train_dataset = dsets.MNIST(root='./data', train=True, download=True, transform=transforms.ToTensor())"
   ]
  },
  {
   "cell_type": "markdown",
   "metadata": {},
   "source": [
    "Load the validating dataset by setting the parameters train  <code>False</code> and convert it to a tensor by placing a transform object into the argument <code>transform</code>\n"
   ]
  },
  {
   "cell_type": "code",
   "execution_count": 6,
   "metadata": {},
   "outputs": [],
   "source": [
    "# load the train dataset\n",
    "\n",
    "validation_dataset = dsets.MNIST(root='./data', train=False, download=True, transform=transforms.ToTensor())"
   ]
  },
  {
   "cell_type": "markdown",
   "metadata": {},
   "source": [
    "create the training-data loader and the validation-data loader object \n"
   ]
  },
  {
   "cell_type": "code",
   "execution_count": 7,
   "metadata": {},
   "outputs": [],
   "source": [
    "# Create Data Loader for both train and validating\n",
    "\n",
    "train_loader = torch.utils.data.DataLoader(dataset=train_dataset, batch_size=2000, shuffle=True)\n",
    "validation_loader = torch.utils.data.DataLoader(dataset=validation_dataset, batch_size=5000, shuffle=False)"
   ]
  },
  {
   "cell_type": "markdown",
   "metadata": {},
   "source": [
    "<a id=\"ref3\"></a>\n",
    "<h2>Define Neural Network, Criterion function, Optimizer and Train the  Model  </h2> \n"
   ]
  },
  {
   "cell_type": "markdown",
   "metadata": {},
   "source": [
    "Create the criterion function  \n"
   ]
  },
  {
   "cell_type": "code",
   "execution_count": 8,
   "metadata": {},
   "outputs": [],
   "source": [
    "# Create the criterion function\n",
    "\n",
    "criterion = nn.CrossEntropyLoss()"
   ]
  },
  {
   "cell_type": "markdown",
   "metadata": {},
   "source": [
    "Variables for Neural Network Shape <code> hidden_dim</code> used for number of neurons in both hidden layers.\n"
   ]
  },
  {
   "cell_type": "code",
   "execution_count": 9,
   "metadata": {},
   "outputs": [],
   "source": [
    "# Set the parameters\n",
    "\n",
    "input_dim = 28 * 28\n",
    "hidden_dim = 100\n",
    "output_dim = 10"
   ]
  },
  {
   "cell_type": "markdown",
   "metadata": {},
   "source": [
    "<h2 id=\"Train\">Train Neural Network using Batch Normalization and no Batch Normalization </h2> \n"
   ]
  },
  {
   "cell_type": "markdown",
   "metadata": {},
   "source": [
    "Train Neural Network using  Batch Normalization :\n"
   ]
  },
  {
   "cell_type": "code",
   "execution_count": 10,
   "metadata": {},
   "outputs": [],
   "source": [
    "# Create model, optimizer and train the model\n",
    "\n",
    "model_norm  = NetBatchNorm(input_dim, hidden_dim, hidden_dim, output_dim)\n",
    "optimizer = torch.optim.Adam(model_norm.parameters(), lr = 0.1)\n",
    "training_results_Norm=train(model_norm , criterion, train_loader, validation_loader, optimizer, epochs=5)"
   ]
  },
  {
   "cell_type": "markdown",
   "metadata": {},
   "source": [
    "Train Neural Network with no Batch Normalization:\n"
   ]
  },
  {
   "cell_type": "code",
   "execution_count": 11,
   "metadata": {},
   "outputs": [],
   "source": [
    "# Create model without Batch Normalization, optimizer and train the model\n",
    "\n",
    "model = Net(input_dim, hidden_dim, hidden_dim, output_dim)\n",
    "optimizer = torch.optim.Adam(model.parameters(), lr = 0.1)\n",
    "training_results = train(model, criterion, train_loader, validation_loader, optimizer, epochs=5)"
   ]
  },
  {
   "cell_type": "markdown",
   "metadata": {},
   "source": [
    "<h2 id=\"Result\">Analyze Results</h2> \n"
   ]
  },
  {
   "cell_type": "markdown",
   "metadata": {},
   "source": [
    "model.eval() sets the PyTorch model to evaluation mode, disabling operations like dropout or batch normalization.\n",
    "\n",
    "Batch normalization layers adapt their behavior based on whether the model is in training or evaluation mode.\n",
    "\n",
    "In evaluation mode, batch normalization layers employ population statistics rather than batch statistics, offering a stable normalization process during inference."
   ]
  },
  {
   "cell_type": "code",
   "execution_count": 12,
   "metadata": {
    "tags": []
   },
   "outputs": [
    {
     "data": {
      "text/plain": [
       "Net(\n",
       "  (linear1): Linear(in_features=784, out_features=100, bias=True)\n",
       "  (linear2): Linear(in_features=100, out_features=100, bias=True)\n",
       "  (linear3): Linear(in_features=100, out_features=10, bias=True)\n",
       ")"
      ]
     },
     "execution_count": 12,
     "metadata": {},
     "output_type": "execute_result"
    }
   ],
   "source": [
    "model.eval()"
   ]
  },
  {
   "cell_type": "code",
   "execution_count": 13,
   "metadata": {
    "tags": []
   },
   "outputs": [
    {
     "data": {
      "text/plain": [
       "NetBatchNorm(\n",
       "  (linear1): Linear(in_features=784, out_features=100, bias=True)\n",
       "  (linear2): Linear(in_features=100, out_features=100, bias=True)\n",
       "  (linear3): Linear(in_features=100, out_features=10, bias=True)\n",
       "  (bn1): BatchNorm1d(100, eps=1e-05, momentum=0.1, affine=True, track_running_stats=True)\n",
       "  (bn2): BatchNorm1d(100, eps=1e-05, momentum=0.1, affine=True, track_running_stats=True)\n",
       ")"
      ]
     },
     "execution_count": 13,
     "metadata": {},
     "output_type": "execute_result"
    }
   ],
   "source": [
    "model_norm.eval()"
   ]
  },
  {
   "cell_type": "markdown",
   "metadata": {},
   "source": [
    "Compare the histograms of the activation for the first layer of the first sample, for both models.\n"
   ]
  },
  {
   "cell_type": "code",
   "execution_count": 14,
   "metadata": {},
   "outputs": [
    {
     "data": {
      "image/png": "[encoded data removed]",
      "text/plain": [
       "<Figure size 640x480 with 1 Axes>"
      ]
     },
     "metadata": {},
     "output_type": "display_data"
    }
   ],
   "source": [
    "out=model.activation(validation_dataset[0][0].reshape(-1,28*28))\n",
    "plt.hist(out[2],label='model with no batch normalization', alpha=0.7)\n",
    "out_norm=model_norm.activation(validation_dataset[0][0].reshape(-1,28*28))\n",
    "plt.hist(out_norm[2],label='model with normalization', alpha=0.7)\n",
    "plt.xlabel(\"activation \")\n",
    "plt.legend()\n",
    "plt.show()"
   ]
  },
  {
   "cell_type": "markdown",
   "metadata": {},
   "source": [
    "We see the activations with Batch Normalization are zero centred and have a smaller variance.\n"
   ]
  },
  {
   "cell_type": "markdown",
   "metadata": {},
   "source": [
    "Compare the training loss for each iteration\n"
   ]
  },
  {
   "cell_type": "code",
   "execution_count": 15,
   "metadata": {},
   "outputs": [
    {
     "data": {
      "image/png": "[encoded data removed]",
      "text/plain": [
       "<Figure size 640x480 with 1 Axes>"
      ]
     },
     "metadata": {},
     "output_type": "display_data"
    }
   ],
   "source": [
    "# Plot the diagram to show the loss\n",
    "plt.plot(training_results['training_loss'], label='No Batch Normalization')\n",
    "plt.plot(training_results_Norm['training_loss'], label='Batch Normalization')\n",
    "plt.ylabel('Cost')\n",
    "plt.xlabel('iterations ')   \n",
    "plt.legend()\n",
    "plt.show()"
   ]
  },
  {
   "cell_type": "markdown",
   "metadata": {},
   "source": [
    "Compare the validating accuracy for each iteration\n"
   ]
  },
  {
   "cell_type": "code",
   "execution_count": 16,
   "metadata": {},
   "outputs": [
    {
     "data": {
      "image/png": "[encoded data removed]",
      "text/plain": [
       "<Figure size 640x480 with 1 Axes>"
      ]
     },
     "metadata": {},
     "output_type": "display_data"
    }
   ],
   "source": [
    "# Plot the diagram to show the accuracy\n",
    "plt.plot(training_results['validation_accuracy'],label='No Batch Normalization')\n",
    "plt.plot(training_results_Norm['validation_accuracy'],label='Batch Normalization')\n",
    "plt.ylabel('validation accuracy')\n",
    "plt.xlabel('epochs ')   \n",
    "plt.legend()\n",
    "plt.show()"
   ]
  },
  {
   "cell_type": "markdown",
   "metadata": {},
   "source": [
    "# Authors' rights\n",
    "\n",
    "Machine Learning with Python course by IBM on Coursera: https://www.coursera.org/learn/machine-learning-with-python/\n",
    "\n",
    "Completed and modified by Mathilde Marie Duville as part of the IBM Artificial Intelligence Engineering Professional Certificate and corresponding IBM badges. Please, follow the subsequent links to confirm the accreditation:\n",
    "\n",
    "https://www.coursera.org/account/accomplishments/professional-cert/KSLW773DAATP?utm_source=link&utm_medium=certificate&utm_content=cert_image&utm_campaign=sharing_cta&utm_product=prof\n",
    "\n",
    "https://www.credly.com/users/mathilde-marie-duville/badges\n",
    "\n",
    "-------------------------------------------------------------------------------------------------------------------------------------------\n",
    "\n",
    "Author: <a href=\"https://www.linkedin.com/in/joseph-s-50398b136/\">Joseph Santarcangelo</a> has a PhD in Electrical Engineering, his research focused on using machine learning, signal processing, and computer vision to determine how videos impact human cognition. Joseph has been working for IBM since he completed his PhD.\n",
    "\n",
    "Other contributors: <a href=\"https://www.linkedin.com/in/michelleccarey/\">Michelle Carey</a>, <a href=\"www.linkedin.com/in/jiahui-mavis-zhou-a4537814a\">Mavis Zhou</a> "
   ]
  },
  {
   "cell_type": "markdown",
   "metadata": {},
   "source": [
    "<!--\n",
    "## Change Log\n",
    "\n",
    "|  Date (YYYY-MM-DD) |  Version | Changed By  |  Change Description |\n",
    "|---|---|---|---|\n",
    "| 2020-09-23  | 2.0  | Srishti  |  Migrated Lab to Markdown and added to course repo in GitLab |\n",
    "\n",
    "\n",
    "\n",
    "<hr>\n",
    "-->\n",
    "\n",
    "## <h3 align=\"center\"> &#169; IBM Corporation. All rights reserved. <h3/>\n"
   ]
  }
 ],
 "metadata": {
  "kernelspec": {
   "display_name": "Python",
   "language": "python",
   "name": "conda-env-python-py"
  },
  "language_info": {
   "codemirror_mode": {
    "name": "ipython",
    "version": 3
   },
   "file_extension": ".py",
   "mimetype": "text/x-python",
   "name": "python",
   "nbconvert_exporter": "python",
   "pygments_lexer": "ipython3",
   "version": "3.7.12"
  }
 },
 "nbformat": 4,
 "nbformat_minor": 4
}
